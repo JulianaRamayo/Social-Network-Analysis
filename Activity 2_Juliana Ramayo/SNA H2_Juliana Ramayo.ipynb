{
 "cells": [
  {
   "cell_type": "markdown",
   "id": "7d6b7737",
   "metadata": {},
   "source": [
    "# Activity 2. Network Analysis Tutoriales\n",
    "\n",
    "## Chapter 1\n",
    "\n",
    "NetworkX can be used to construct and draw graphs that are undirected or directed, with weighted or unweighted edges. An array of functions to analyze graphs is available.\n",
    "\n",
    "### The `import` statement"
   ]
  },
  {
   "cell_type": "code",
   "execution_count": 1,
   "id": "2dfc5e20",
   "metadata": {},
   "outputs": [],
   "source": [
    "import networkx as nx # Calling the NetworkX library with the alias nx\n",
    "import matplotlib.pyplot as plt\n",
    "%matplotlib inline"
   ]
  },
  {
   "cell_type": "code",
   "execution_count": 2,
   "id": "1b24c3f9",
   "metadata": {},
   "outputs": [
    {
     "data": {
      "text/plain": [
       "'3.3'"
      ]
     },
     "execution_count": 2,
     "metadata": {},
     "output_type": "execute_result"
    }
   ],
   "source": [
    "nx.__version__"
   ]
  },
  {
   "cell_type": "markdown",
   "id": "7398ecf0",
   "metadata": {},
   "source": [
    "### Creating and drawing undirected graphs"
   ]
  },
  {
   "cell_type": "code",
   "execution_count": 3,
   "id": "49f21c98",
   "metadata": {},
   "outputs": [
    {
     "data": {
      "image/png": "[encoded data removed]",
      "text/plain": [
       "<Figure size 432x288 with 1 Axes>"
      ]
     },
     "metadata": {},
     "output_type": "display_data"
    }
   ],
   "source": [
    "# d \"plain\" graph is undirected\n",
    "G = nx.Graph()\n",
    "\n",
    "# give each a node a 'name', which is a letter in this case.\n",
    "G.add_node('a')\n",
    "\n",
    "# the add_nodes_from method allows adding nodes from a sequence, in this case a list\n",
    "nodes_to_add = ['b', 'c', 'd']\n",
    "G.add_nodes_from(nodes_to_add)\n",
    "\n",
    "# add edges from 'a' to 'b'\n",
    "# since this graph is undirected, the order doesn't matter here\n",
    "G.add_edge('a', 'b')\n",
    "\n",
    "# just like add_nodes_from, we can add edges from a sequence\n",
    "# edges should be specified as 2-tuples\n",
    "edges_to_add = [('a', 'c'), ('b', 'c'), ('c', 'd')]\n",
    "G.add_edges_from(edges_to_add)\n",
    "\n",
    "# draw the graph\n",
    "nx.draw(G, with_labels=True)"
   ]
  },
  {
   "cell_type": "code",
   "execution_count": 4,
   "id": "45539fea",
   "metadata": {},
   "outputs": [
    {
     "data": {
      "image/png": "[encoded data removed]",
      "text/plain": [
       "<Figure size 432x288 with 1 Axes>"
      ]
     },
     "metadata": {},
     "output_type": "display_data"
    }
   ],
   "source": [
    "# there are many optional arguments to the draw function to customize the appearance\n",
    "nx.draw(G,\n",
    "       with_labels=True,\n",
    "       node_color='pink',\n",
    "       node_size=1600,\n",
    "       font_color='white',\n",
    "       font_size=16\n",
    "       )"
   ]
  },
  {
   "cell_type": "markdown",
   "id": "57554ebc",
   "metadata": {},
   "source": [
    "### Graph methods"
   ]
  },
  {
   "cell_type": "code",
   "execution_count": 5,
   "id": "1faf3d6b",
   "metadata": {},
   "outputs": [
    {
     "data": {
      "text/plain": [
       "NodeView(('a', 'b', 'c', 'd'))"
      ]
     },
     "execution_count": 5,
     "metadata": {},
     "output_type": "execute_result"
    }
   ],
   "source": [
    "# the graph object has some properties and methods giving data about the whole graph\n",
    "\n",
    "# list all of the nodes\n",
    "G.nodes()"
   ]
  },
  {
   "cell_type": "code",
   "execution_count": 6,
   "id": "1985cd7c",
   "metadata": {},
   "outputs": [
    {
     "data": {
      "text/plain": [
       "EdgeView([('a', 'b'), ('a', 'c'), ('b', 'c'), ('c', 'd')])"
      ]
     },
     "execution_count": 6,
     "metadata": {},
     "output_type": "execute_result"
    }
   ],
   "source": [
    "# list all of the edges\n",
    "G.edges()"
   ]
  },
  {
   "cell_type": "code",
   "execution_count": 7,
   "id": "883a5da2",
   "metadata": {},
   "outputs": [
    {
     "name": "stdout",
     "output_type": "stream",
     "text": [
      "a\n",
      "b\n",
      "c\n",
      "d\n"
     ]
    }
   ],
   "source": [
    "# NodeView and EdgeView objects have iterators, so we can use them in `for` loops\n",
    "for node in G.nodes:\n",
    "    print(node)"
   ]
  },
  {
   "cell_type": "code",
   "execution_count": 8,
   "id": "d91caccb",
   "metadata": {},
   "outputs": [
    {
     "name": "stdout",
     "output_type": "stream",
     "text": [
      "('a', 'b')\n",
      "('a', 'c')\n",
      "('b', 'c')\n",
      "('c', 'd')\n"
     ]
    }
   ],
   "source": [
    "for edge in G.edges:\n",
    "    print(edge)"
   ]
  },
  {
   "cell_type": "code",
   "execution_count": 9,
   "id": "5e9faef3",
   "metadata": {},
   "outputs": [
    {
     "data": {
      "text/plain": [
       "4"
      ]
     },
     "execution_count": 9,
     "metadata": {},
     "output_type": "execute_result"
    }
   ],
   "source": [
    "# we can get the number of nodes and edges in a graph using the `number_of_` methods\n",
    "G.number_of_nodes()"
   ]
  },
  {
   "cell_type": "code",
   "execution_count": 10,
   "id": "dceab4ef",
   "metadata": {},
   "outputs": [
    {
     "data": {
      "text/plain": [
       "4"
      ]
     },
     "execution_count": 10,
     "metadata": {},
     "output_type": "execute_result"
    }
   ],
   "source": [
    "G.number_of_edges()"
   ]
  },
  {
   "cell_type": "markdown",
   "id": "b9999f83",
   "metadata": {},
   "source": [
    "Some graph methods take an edge or node as argument. These provide the graph properties of the given edge or node. For example, the `.neighbors()` method gives the nodes linked to the given node:"
   ]
  },
  {
   "cell_type": "code",
   "execution_count": 11,
   "id": "8275e68f",
   "metadata": {},
   "outputs": [
    {
     "data": {
      "text/plain": [
       "<dict_keyiterator at 0x18cd4889bc0>"
      ]
     },
     "execution_count": 11,
     "metadata": {},
     "output_type": "execute_result"
    }
   ],
   "source": [
    "# list of neighbors of node 'b'\n",
    "G.neighbors('b')"
   ]
  },
  {
   "cell_type": "markdown",
   "id": "46fd399b",
   "metadata": {},
   "source": [
    "For performance reasons, many graph methods return iterators instead of lists. They are convenient to loop over:"
   ]
  },
  {
   "cell_type": "code",
   "execution_count": 12,
   "id": "f9e2bc66",
   "metadata": {},
   "outputs": [
    {
     "name": "stdout",
     "output_type": "stream",
     "text": [
      "a\n",
      "c\n"
     ]
    }
   ],
   "source": [
    "for neighbor in G.neighbors('b'):\n",
    "    print(neighbor)"
   ]
  },
  {
   "cell_type": "markdown",
   "id": "0d9b24e7",
   "metadata": {},
   "source": [
    "and you can always use the list constructor to make a `list` from an iterator:"
   ]
  },
  {
   "cell_type": "code",
   "execution_count": 13,
   "id": "c506adac",
   "metadata": {},
   "outputs": [
    {
     "data": {
      "text/plain": [
       "['a', 'c']"
      ]
     },
     "execution_count": 13,
     "metadata": {},
     "output_type": "execute_result"
    }
   ],
   "source": [
    "list(G.neighbors('b'))"
   ]
  },
  {
   "cell_type": "markdown",
   "id": "0bd5dfaa",
   "metadata": {},
   "source": [
    "### NetworkX functions vs. Graph methods\n",
    "\n",
    "The previous data are available via graph methods, i.e. they are called from the graph object:\n",
    "\n",
    "`G.<method_name>(<arguments>)`\n",
    "\n",
    "While several of the most-used NetworkX functions are provided as methods, many more of them are module functions and are called like this:\n",
    "\n",
    "`nx.<function_name>(G, <arguments>)`\n",
    "\n",
    "that is, with the graph provided as the first, and maybe only, argument. Here are a couple of examples of NetworkX module functions that provide information about a graph:"
   ]
  },
  {
   "cell_type": "code",
   "execution_count": 14,
   "id": "b946dd07",
   "metadata": {},
   "outputs": [
    {
     "data": {
      "text/plain": [
       "False"
      ]
     },
     "execution_count": 14,
     "metadata": {},
     "output_type": "execute_result"
    }
   ],
   "source": [
    "nx.is_tree(G)"
   ]
  },
  {
   "cell_type": "code",
   "execution_count": 15,
   "id": "5123d561",
   "metadata": {},
   "outputs": [
    {
     "data": {
      "text/plain": [
       "True"
      ]
     },
     "execution_count": 15,
     "metadata": {},
     "output_type": "execute_result"
    }
   ],
   "source": [
    "nx.is_connected(G)"
   ]
  },
  {
   "cell_type": "markdown",
   "id": "13908ed9",
   "metadata": {},
   "source": [
    "### Node and edge existence\n",
    "\n",
    "To check if a node is present in a graph, you can use the `has_node()` method:"
   ]
  },
  {
   "cell_type": "code",
   "execution_count": 16,
   "id": "54700aea",
   "metadata": {},
   "outputs": [
    {
     "data": {
      "text/plain": [
       "True"
      ]
     },
     "execution_count": 16,
     "metadata": {},
     "output_type": "execute_result"
    }
   ],
   "source": [
    "G.has_node('a')"
   ]
  },
  {
   "cell_type": "code",
   "execution_count": 17,
   "id": "ca937099",
   "metadata": {},
   "outputs": [
    {
     "data": {
      "text/plain": [
       "False"
      ]
     },
     "execution_count": 17,
     "metadata": {},
     "output_type": "execute_result"
    }
   ],
   "source": [
    "G.has_node('x')"
   ]
  },
  {
   "cell_type": "markdown",
   "id": "bc12d36d",
   "metadata": {},
   "source": [
    "Additionally, the loop syntax used above: `for n in G.nodes` suggests another way we can check if a node is in a graph:"
   ]
  },
  {
   "cell_type": "code",
   "execution_count": 18,
   "id": "b0ad8d1e",
   "metadata": {},
   "outputs": [
    {
     "data": {
      "text/plain": [
       "True"
      ]
     },
     "execution_count": 18,
     "metadata": {},
     "output_type": "execute_result"
    }
   ],
   "source": [
    "'d' in G.nodes"
   ]
  },
  {
   "cell_type": "markdown",
   "id": "2ecb51d9",
   "metadata": {},
   "source": [
    "Likewise we can check if two nodes are connected by an edge:"
   ]
  },
  {
   "cell_type": "code",
   "execution_count": 19,
   "id": "5e8556fc",
   "metadata": {},
   "outputs": [
    {
     "data": {
      "text/plain": [
       "True"
      ]
     },
     "execution_count": 19,
     "metadata": {},
     "output_type": "execute_result"
    }
   ],
   "source": [
    "G.has_edge('a', 'b')"
   ]
  },
  {
   "cell_type": "code",
   "execution_count": 20,
   "id": "6fe09409",
   "metadata": {},
   "outputs": [
    {
     "data": {
      "text/plain": [
       "False"
      ]
     },
     "execution_count": 20,
     "metadata": {},
     "output_type": "execute_result"
    }
   ],
   "source": [
    "G.has_edge('a', 'd')"
   ]
  },
  {
   "cell_type": "code",
   "execution_count": 21,
   "id": "0de12531",
   "metadata": {},
   "outputs": [
    {
     "data": {
      "text/plain": [
       "True"
      ]
     },
     "execution_count": 21,
     "metadata": {},
     "output_type": "execute_result"
    }
   ],
   "source": [
    "('c', 'd') in G.edges"
   ]
  },
  {
   "cell_type": "markdown",
   "id": "fd83398c",
   "metadata": {},
   "source": [
    "### Node degree\n",
    "One of the most important questions we can ask about a node in a graph is how many other nodes it connects to. Using the `.neighbors()` method from above, we could formulate this question as so:"
   ]
  },
  {
   "cell_type": "code",
   "execution_count": 22,
   "id": "c3c9ee17",
   "metadata": {},
   "outputs": [
    {
     "data": {
      "text/plain": [
       "2"
      ]
     },
     "execution_count": 22,
     "metadata": {},
     "output_type": "execute_result"
    }
   ],
   "source": [
    "len(list(G.neighbors('a')))"
   ]
  },
  {
   "cell_type": "markdown",
   "id": "3eca574c",
   "metadata": {},
   "source": [
    "but this is such a common task that NetworkX provides us a graph method to do this in a much clearer way:"
   ]
  },
  {
   "cell_type": "code",
   "execution_count": 23,
   "id": "5219c829",
   "metadata": {},
   "outputs": [
    {
     "data": {
      "text/plain": [
       "2"
      ]
     },
     "execution_count": 23,
     "metadata": {},
     "output_type": "execute_result"
    }
   ],
   "source": [
    "G.degree('a')"
   ]
  },
  {
   "cell_type": "markdown",
   "id": "32050200",
   "metadata": {},
   "source": [
    "### EXERCISE 1\n",
    "Often in the context of trees, a node with degree 1 is called a leaf. Write a function named `get_leaves` that takes a graph as an argument, loops through the nodes, and returns a list of nodes with degree 1."
   ]
  },
  {
   "cell_type": "code",
   "execution_count": 24,
   "id": "65627c55",
   "metadata": {},
   "outputs": [],
   "source": [
    "def get_leaves(G):\n",
    "    # empty list to store leaf nodes\n",
    "    leaves = []\n",
    "    \n",
    "    # iterate over each node in the graph\n",
    "    for node in G.nodes:\n",
    "        # check if the node is a leaf node\n",
    "        if G.degree(node) == 1:\n",
    "            # if it's a leaf node, add to the list of leaves\n",
    "            leaves.append(node)\n",
    "            \n",
    "    # return the list containing all the leaf nodes in the graph\n",
    "    return leaves"
   ]
  },
  {
   "cell_type": "code",
   "execution_count": 25,
   "id": "7dc8434f",
   "metadata": {},
   "outputs": [
    {
     "data": {
      "text/plain": [
       "True"
      ]
     },
     "execution_count": 25,
     "metadata": {},
     "output_type": "execute_result"
    }
   ],
   "source": [
    "G = nx.Graph()\n",
    "G.add_edges_from([\n",
    "        ('a', 'b'),\n",
    "        ('a', 'd'),\n",
    "        ('c', 'd'),\n",
    "    ])\n",
    "\n",
    "set(get_leaves(G)) == {'c', 'b'}"
   ]
  },
  {
   "cell_type": "markdown",
   "id": "6bbf8d98",
   "metadata": {},
   "source": [
    "### Aside: comprehensions\n",
    "\n",
    "Often we have one sequence of values and we want to generate a new sequence by applying an operation to each item in the first. List comprehensions and generator expressions are compact ways to do this.\n",
    "\n",
    "List comprehensions are specified inside square brackets, and immediately produce a list of the result."
   ]
  },
  {
   "cell_type": "code",
   "execution_count": 26,
   "id": "85e03051",
   "metadata": {},
   "outputs": [
    {
     "data": {
      "text/plain": [
       "['SPIDER', 'Y', 'BANANA']"
      ]
     },
     "execution_count": 26,
     "metadata": {},
     "output_type": "execute_result"
    }
   ],
   "source": [
    "items = ['spider', 'y', 'banana']\n",
    "[item.upper() for item in items]"
   ]
  },
  {
   "cell_type": "markdown",
   "id": "ab697f59",
   "metadata": {},
   "source": [
    "In the context of NetworkX, this is often used to do something with the node or edge lists:"
   ]
  },
  {
   "cell_type": "code",
   "execution_count": 27,
   "id": "3bea9ad7",
   "metadata": {},
   "outputs": [
    {
     "name": "stdout",
     "output_type": "stream",
     "text": [
      "['a', 'b', 'd', 'c']\n",
      "[2, 1, 2, 1]\n"
     ]
    }
   ],
   "source": [
    "print(G.nodes())\n",
    "print([G.degree(n) for n in G.nodes()])"
   ]
  },
  {
   "cell_type": "markdown",
   "id": "ab2ba282",
   "metadata": {},
   "source": [
    "Generator expressions are slightly different as they are evaluated lazily. These are specified using round braces, and if they are being expressed as a function argument, they can be specified without any braces. These are most often used in the context of aggregations like the `max` function:"
   ]
  },
  {
   "cell_type": "code",
   "execution_count": 28,
   "id": "b13fa463",
   "metadata": {},
   "outputs": [
    {
     "data": {
      "text/plain": [
       "[6, 1, 6]"
      ]
     },
     "execution_count": 28,
     "metadata": {},
     "output_type": "execute_result"
    }
   ],
   "source": [
    "g = (len(item) for item in items)\n",
    "list(g)"
   ]
  },
  {
   "cell_type": "code",
   "execution_count": 29,
   "id": "efa79dfd",
   "metadata": {},
   "outputs": [
    {
     "data": {
      "text/plain": [
       "6"
      ]
     },
     "execution_count": 29,
     "metadata": {},
     "output_type": "execute_result"
    }
   ],
   "source": [
    "max(len(item) for item in items)"
   ]
  },
  {
   "cell_type": "code",
   "execution_count": 30,
   "id": "25470dc7",
   "metadata": {},
   "outputs": [
    {
     "data": {
      "text/plain": [
       "['BANANA', 'SPIDER', 'Y']"
      ]
     },
     "execution_count": 30,
     "metadata": {},
     "output_type": "execute_result"
    }
   ],
   "source": [
    "sorted(item.upper() for item in items)"
   ]
  },
  {
   "cell_type": "markdown",
   "id": "c1b1f2fd",
   "metadata": {},
   "source": [
    "### Node names\n",
    "The node names don't have to be single characters -- they can be strings or integers or any immutable object, and the types can be mixed. The example below uses strings and integers for names."
   ]
  },
  {
   "cell_type": "code",
   "execution_count": 31,
   "id": "8375f7a2",
   "metadata": {},
   "outputs": [
    {
     "data": {
      "image/png": "[encoded data removed]",
      "text/plain": [
       "<Figure size 432x288 with 1 Axes>"
      ]
     },
     "metadata": {},
     "output_type": "display_data"
    }
   ],
   "source": [
    "\n",
    "G = nx.Graph()\n",
    "\n",
    "G.add_nodes_from(['cat','dog','virus',13])\n",
    "\n",
    "G.add_edge('cat','dog')\n",
    "\n",
    "nx.draw(G, with_labels=True, font_color='white', node_size=1000)"
   ]
  },
  {
   "cell_type": "markdown",
   "id": "6df61d88",
   "metadata": {},
   "source": [
    "### Adjacency lists\n",
    "One compact way to represent a graph is an adjacency list. This is most useful for unweighted graphs, directed or undirected. In an adjacency list, each line contains some number of node names. The first node name is the \"source\" and each other node name on the line is a \"target\". For instance, given the following adjacency list:\n",
    "\n",
    "`a d e\n",
    "b c\n",
    "c\n",
    "d\n",
    "e`\n",
    "\n",
    "the edges are as follows:\n",
    "\n",
    "`(a, d)\n",
    "(a, e)\n",
    "(b, c)`\n",
    "\n",
    "The nodes on their own line exist so that we are sure to include any singleton nodes. Note that if our graph is undirected, we only need to specify one direction for each edge. Importantly, whether the graph is directed or undirected is often not contained in the file itself -- you have to infer it. This is one limitation of the format."
   ]
  },
  {
   "cell_type": "code",
   "execution_count": 32,
   "id": "3f599525",
   "metadata": {},
   "outputs": [
    {
     "name": "stdout",
     "output_type": "stream",
     "text": [
      "George Frank Dennis\n",
      "Dennis Claire Esther\n",
      "Claire Frank Alice Esther\n",
      "Bob Alice\n",
      "Frank Alice\n",
      "Alice\n",
      "Esther\n",
      "Shelly\n",
      "\n"
     ]
    }
   ],
   "source": [
    "print(open(r'C:\\Users\\Julia\\Desktop\\Activity 2_Juliana Ramayo\\friends.adjlist').read())"
   ]
  },
  {
   "cell_type": "markdown",
   "id": "8f9c2f3f",
   "metadata": {},
   "source": [
    "NetworkX provides a way to read a graph from an adjacency list: `nx.read_adjlist()`. We will name this graph SG, for social graph."
   ]
  },
  {
   "cell_type": "code",
   "execution_count": 33,
   "id": "702c3365",
   "metadata": {},
   "outputs": [],
   "source": [
    "SG = nx.read_adjlist(r'C:\\Users\\Julia\\Desktop\\Activity 2_Juliana Ramayo\\friends.adjlist')"
   ]
  },
  {
   "cell_type": "markdown",
   "id": "12fb5a62",
   "metadata": {},
   "source": [
    "We know how to draw this graph:"
   ]
  },
  {
   "cell_type": "code",
   "execution_count": 34,
   "id": "19da57b1",
   "metadata": {
    "scrolled": true
   },
   "outputs": [
    {
     "data": {
      "image/png": "[encoded data removed]",
      "text/plain": [
       "<Figure size 432x288 with 1 Axes>"
      ]
     },
     "metadata": {},
     "output_type": "display_data"
    }
   ],
   "source": [
    "nx.draw(SG, node_size=2000, node_color='pink', with_labels=True)"
   ]
  },
  {
   "cell_type": "markdown",
   "id": "d8414a1b",
   "metadata": {},
   "source": [
    "And we know how to get information such as the number of friends linked from a node:"
   ]
  },
  {
   "cell_type": "code",
   "execution_count": 35,
   "id": "49da4c46",
   "metadata": {},
   "outputs": [
    {
     "data": {
      "text/plain": [
       "3"
      ]
     },
     "execution_count": 35,
     "metadata": {},
     "output_type": "execute_result"
    }
   ],
   "source": [
    "SG.degree('Alice')"
   ]
  },
  {
   "cell_type": "markdown",
   "id": "ccf82165",
   "metadata": {},
   "source": [
    "### EXERCISE 2\n",
    "Write a function max_degree that takes a graph as its argument, and returns a 2-tuple with the name and degree of the node with highest degree."
   ]
  },
  {
   "cell_type": "code",
   "execution_count": 36,
   "id": "5c9af2a0",
   "metadata": {},
   "outputs": [],
   "source": [
    "def max_degree(G):\n",
    "    # dictionary that retrieves all node degrees in the graph\n",
    "    node_degrees = {node: G.degree(node) for node in G.nodes()}\n",
    "    \n",
    "    # find the node with the maximum degree\n",
    "    max_node = max(node_degrees, key=node_degrees.get)\n",
    "    \n",
    "    # return the node with the maximum degree and its degree\n",
    "    return (max_node, node_degrees[max_node])"
   ]
  },
  {
   "cell_type": "code",
   "execution_count": 37,
   "id": "4f26160a",
   "metadata": {},
   "outputs": [
    {
     "data": {
      "text/plain": [
       "True"
      ]
     },
     "execution_count": 37,
     "metadata": {},
     "output_type": "execute_result"
    }
   ],
   "source": [
    "SG = nx.read_adjlist(r'C:\\Users\\Julia\\Desktop\\Activity 2_Juliana Ramayo\\friends.adjlist')\n",
    "max_degree(SG) == ('Claire', 4)"
   ]
  },
  {
   "cell_type": "markdown",
   "id": "871f93ae",
   "metadata": {},
   "source": [
    "### EXERCISE 3\n",
    "Write a function `mutual_friends` that takes a graph and two nodes as arguments, and returns a list (or set) of nodes that are linked to both given nodes. For example, in the graph `SG` drawn above,\n",
    "\n",
    "`mutual_friends(SG, 'Alice', 'Claire') == ['Frank']`\n",
    "\n",
    "an empty list or set should be returned in the case where two nodes have no mutual friends, e.g. George and Bob in `SG` drawn above."
   ]
  },
  {
   "cell_type": "code",
   "execution_count": 38,
   "id": "f5906a8a",
   "metadata": {},
   "outputs": [],
   "source": [
    "def mutual_friends(G, node_1, node_2):\n",
    "    neighbors_node_1 = set(G.neighbors(node_1))\n",
    "    neighbors_node_2 = set(G.neighbors(node_2))\n",
    "    \n",
    "    mutual = neighbors_node_1 & neighbors_node_2\n",
    "    \n",
    "    return list(mutual)"
   ]
  },
  {
   "cell_type": "code",
   "execution_count": 39,
   "id": "8b5e7311",
   "metadata": {},
   "outputs": [
    {
     "data": {
      "text/plain": [
       "True"
      ]
     },
     "execution_count": 39,
     "metadata": {},
     "output_type": "execute_result"
    }
   ],
   "source": [
    "SG = nx.read_adjlist(r'C:\\Users\\Julia\\Desktop\\Activity 2_Juliana Ramayo\\friends.adjlist')\n",
    "mutual_friends(SG, 'Alice', 'Claire') == ['Frank']\n",
    "mutual_friends(SG, 'George', 'Bob') == []\n",
    "sorted(mutual_friends(SG, 'Claire', 'George')) == ['Dennis', 'Frank']"
   ]
  },
  {
   "cell_type": "markdown",
   "id": "86123ecd",
   "metadata": {},
   "source": [
    "### Directed graphs\n",
    "Unless otherwise specified, we assume graph edges are undirected -- they are symmetric and go both ways. But some relationships, e.g. predator-prey relationships, are asymmetric and best represented as directed graphs. NetworkX provides the `DiGraph` class for directed graphs."
   ]
  },
  {
   "cell_type": "code",
   "execution_count": 40,
   "id": "65574946",
   "metadata": {},
   "outputs": [
    {
     "data": {
      "image/png": "[encoded data removed]",
      "text/plain": [
       "<Figure size 432x288 with 1 Axes>"
      ]
     },
     "metadata": {},
     "output_type": "display_data"
    }
   ],
   "source": [
    "D = nx.DiGraph()\n",
    "\n",
    "D.add_edges_from([(1,2),(2,3),(3,2),(3,4),(3,5),(4,5),(4,6),(5,6),(6,4),(4,2)])\n",
    "\n",
    "nx.draw(D, with_labels=True)"
   ]
  },
  {
   "cell_type": "markdown",
   "id": "0b7de411",
   "metadata": {},
   "source": [
    "Note the asymmetry in graph methods dealing with edges such as `has_edge()`:"
   ]
  },
  {
   "cell_type": "code",
   "execution_count": 41,
   "id": "4efe910c",
   "metadata": {},
   "outputs": [
    {
     "data": {
      "text/plain": [
       "True"
      ]
     },
     "execution_count": 41,
     "metadata": {},
     "output_type": "execute_result"
    }
   ],
   "source": [
    "D.has_edge(1,2)"
   ]
  },
  {
   "cell_type": "code",
   "execution_count": 42,
   "id": "1f3ffe1a",
   "metadata": {},
   "outputs": [
    {
     "data": {
      "text/plain": [
       "False"
      ]
     },
     "execution_count": 42,
     "metadata": {},
     "output_type": "execute_result"
    }
   ],
   "source": [
    "D.has_edge(2,1)"
   ]
  },
  {
   "cell_type": "markdown",
   "id": "b9f3517f",
   "metadata": {},
   "source": [
    "Instead of the symmetric relationship \"neighbors\", nodes in directed graphs have predecessors (\"in-neighbors\") and successors (\"out-neighbors\"):"
   ]
  },
  {
   "cell_type": "code",
   "execution_count": 43,
   "id": "857caa2d",
   "metadata": {},
   "outputs": [
    {
     "name": "stdout",
     "output_type": "stream",
     "text": [
      "Successors of 2: [3]\n",
      "Predecessors of 2: [1, 3, 4]\n"
     ]
    }
   ],
   "source": [
    "print('Successors of 2:', list(D.successors(2)))\n",
    "\n",
    "print('Predecessors of 2:', list(D.predecessors(2)))"
   ]
  },
  {
   "cell_type": "markdown",
   "id": "243597c1",
   "metadata": {},
   "source": [
    "Directed graphs have in-degree and out-degree, giving the number of edges pointing to and from the given node, respectively:"
   ]
  },
  {
   "cell_type": "code",
   "execution_count": 44,
   "id": "bcd4c571",
   "metadata": {},
   "outputs": [
    {
     "data": {
      "text/plain": [
       "3"
      ]
     },
     "execution_count": 44,
     "metadata": {},
     "output_type": "execute_result"
    }
   ],
   "source": [
    "D.in_degree(2)"
   ]
  },
  {
   "cell_type": "code",
   "execution_count": 45,
   "id": "a53959bd",
   "metadata": {},
   "outputs": [
    {
     "data": {
      "text/plain": [
       "1"
      ]
     },
     "execution_count": 45,
     "metadata": {},
     "output_type": "execute_result"
    }
   ],
   "source": [
    "D.out_degree(2)"
   ]
  },
  {
   "cell_type": "markdown",
   "id": "2be4d554",
   "metadata": {},
   "source": [
    "### Caveat\n",
    "Since NetworkX 2, the `.degree()` method on a directed graph gives the total degree: in-degree plus out-degree. However, in a bit of confusing nomenclature, the `neighbors` method is a synonym for `successors`, giving only the edges originating from the given node. This makes sense if you consider `neighbors` to be all the nodes reachable from the given node by following links, but it's easy to make the mistake of writing `.neighbors()` in your code when you really want both predecessors and successors."
   ]
  },
  {
   "cell_type": "code",
   "execution_count": 46,
   "id": "74888167",
   "metadata": {},
   "outputs": [
    {
     "data": {
      "text/plain": [
       "4"
      ]
     },
     "execution_count": 46,
     "metadata": {},
     "output_type": "execute_result"
    }
   ],
   "source": [
    "D.degree(2)"
   ]
  },
  {
   "cell_type": "code",
   "execution_count": 47,
   "id": "c257a42a",
   "metadata": {},
   "outputs": [
    {
     "name": "stdout",
     "output_type": "stream",
     "text": [
      "Successors of 2: [3]\n",
      "\"Neighbors\" of 2: [3]\n"
     ]
    }
   ],
   "source": [
    "print('Successors of 2:', list(D.successors(2)))\n",
    "print('\"Neighbors\" of 2:', list(D.neighbors(2)))"
   ]
  },
  {
   "cell_type": "markdown",
   "id": "83124370",
   "metadata": {},
   "source": [
    "## Chapter 2\n",
    "### Paths\n",
    "Let's start with a very simple, undirected network."
   ]
  },
  {
   "cell_type": "code",
   "execution_count": 48,
   "id": "be60a217",
   "metadata": {},
   "outputs": [
    {
     "data": {
      "image/png": "[encoded data removed]",
      "text/plain": [
       "<Figure size 432x288 with 1 Axes>"
      ]
     },
     "metadata": {},
     "output_type": "display_data"
    }
   ],
   "source": [
    "G = nx.Graph()\n",
    "\n",
    "G.add_nodes_from([1,2,3,4])\n",
    "\n",
    "G.add_edges_from([(1,2),(2,3),(1,3),(1,4)])\n",
    "\n",
    "nx.draw(G, with_labels=True)"
   ]
  },
  {
   "cell_type": "markdown",
   "id": "55f598f0",
   "metadata": {},
   "source": [
    "A path in a network is a sequence of edges connecting two nodes. In this simple example, we can easily see that there is indeed at least one path that connects nodes 3 and 4. We can verify this with NetworkX:"
   ]
  },
  {
   "cell_type": "code",
   "execution_count": 49,
   "id": "772a8a83",
   "metadata": {},
   "outputs": [
    {
     "data": {
      "text/plain": [
       "True"
      ]
     },
     "execution_count": 49,
     "metadata": {},
     "output_type": "execute_result"
    }
   ],
   "source": [
    "nx.has_path(G, 3, 4)"
   ]
  },
  {
   "cell_type": "markdown",
   "id": "94b65c59",
   "metadata": {},
   "source": [
    "There can be more than one path between two nodes. Again considering nodes 3 and 4, there are two such \"simple\" paths:"
   ]
  },
  {
   "cell_type": "code",
   "execution_count": 50,
   "id": "45cec720",
   "metadata": {},
   "outputs": [
    {
     "data": {
      "text/plain": [
       "[[3, 2, 1, 4], [3, 1, 4]]"
      ]
     },
     "execution_count": 50,
     "metadata": {},
     "output_type": "execute_result"
    }
   ],
   "source": [
    "list(nx.all_simple_paths(G, 3, 4))"
   ]
  },
  {
   "cell_type": "markdown",
   "id": "5d62d2a7",
   "metadata": {},
   "source": [
    "A simple path is one without any cycles. If we allowed cycles, there would be infinitely many paths because one could always just go around the cycle as many times as desired.\n",
    "\n",
    "We are often most interested in shortest paths. In an unweighted network, the shortest path is the one with the fewest edges. We can see that of the two simple paths between nodes 3 and 4, one is shorter than the other. We can get this shortest path with a single NetworkX function:"
   ]
  },
  {
   "cell_type": "code",
   "execution_count": 51,
   "id": "2cd3cf1b",
   "metadata": {},
   "outputs": [
    {
     "data": {
      "text/plain": [
       "[3, 1, 4]"
      ]
     },
     "execution_count": 51,
     "metadata": {},
     "output_type": "execute_result"
    }
   ],
   "source": [
    "nx.shortest_path(G, 3, 4)"
   ]
  },
  {
   "cell_type": "markdown",
   "id": "ad75ff9d",
   "metadata": {},
   "source": [
    "If you only care about the path length, there's a function for that too:"
   ]
  },
  {
   "cell_type": "code",
   "execution_count": 52,
   "id": "18a89586",
   "metadata": {},
   "outputs": [
    {
     "data": {
      "text/plain": [
       "2"
      ]
     },
     "execution_count": 52,
     "metadata": {},
     "output_type": "execute_result"
    }
   ],
   "source": [
    "nx.shortest_path_length(G, 3, 4)"
   ]
  },
  {
   "cell_type": "markdown",
   "id": "21dd7b2a",
   "metadata": {},
   "source": [
    "Note that a path length is defined here by the number of edges in the path, not the number of nodes, which implies\n",
    "\n",
    "`nx.shortest_path_length(G, u, v) == len(nx.shortest_path(G, u, v)) - 1`\n",
    "\n",
    "for nodes $u$ and $v$.\n",
    "\n",
    "### Connected Components\n",
    "In the simple network above, we can see that for every pair of nodes, we can find a path connecting them. This is the definition of a connected graph. We can check this property for a given graph:"
   ]
  },
  {
   "cell_type": "code",
   "execution_count": 53,
   "id": "74a71d6a",
   "metadata": {},
   "outputs": [
    {
     "data": {
      "text/plain": [
       "True"
      ]
     },
     "execution_count": 53,
     "metadata": {},
     "output_type": "execute_result"
    }
   ],
   "source": [
    "nx.is_connected(G)"
   ]
  },
  {
   "cell_type": "markdown",
   "id": "8a1ac309",
   "metadata": {},
   "source": [
    "Not every graph is connected:"
   ]
  },
  {
   "cell_type": "code",
   "execution_count": 54,
   "id": "895a24e7",
   "metadata": {},
   "outputs": [
    {
     "data": {
      "image/png": "[encoded data removed]",
      "text/plain": [
       "<Figure size 432x288 with 1 Axes>"
      ]
     },
     "metadata": {},
     "output_type": "display_data"
    }
   ],
   "source": [
    "G = nx.Graph()\n",
    "\n",
    "nx.add_cycle(G, (1,2,3))\n",
    "G.add_edge(4,5)\n",
    "\n",
    "nx.draw(G, with_labels=True)"
   ]
  },
  {
   "cell_type": "code",
   "execution_count": 55,
   "id": "c8faeffe",
   "metadata": {},
   "outputs": [
    {
     "data": {
      "text/plain": [
       "False"
      ]
     },
     "execution_count": 55,
     "metadata": {},
     "output_type": "execute_result"
    }
   ],
   "source": [
    "nx.is_connected(G)"
   ]
  },
  {
   "cell_type": "markdown",
   "id": "b1bada6d",
   "metadata": {},
   "source": [
    "And NetworkX will raise an error if you ask for a path between nodes where none exists:"
   ]
  },
  {
   "cell_type": "code",
   "execution_count": 56,
   "id": "26c8f340",
   "metadata": {},
   "outputs": [
    {
     "data": {
      "text/plain": [
       "False"
      ]
     },
     "execution_count": 56,
     "metadata": {},
     "output_type": "execute_result"
    }
   ],
   "source": [
    "nx.has_path(G, 3, 5)"
   ]
  },
  {
   "cell_type": "code",
   "execution_count": 57,
   "id": "cd1f292e",
   "metadata": {},
   "outputs": [
    {
     "ename": "NetworkXNoPath",
     "evalue": "No path between 3 and 5.",
     "output_type": "error",
     "traceback": [
      "\u001b[1;31m---------------------------------------------------------------------------\u001b[0m",
      "\u001b[1;31mNetworkXNoPath\u001b[0m                            Traceback (most recent call last)",
      "Input \u001b[1;32mIn [57]\u001b[0m, in \u001b[0;36m<cell line: 1>\u001b[1;34m()\u001b[0m\n\u001b[1;32m----> 1\u001b[0m \u001b[43mnx\u001b[49m\u001b[38;5;241;43m.\u001b[39;49m\u001b[43mshortest_path\u001b[49m\u001b[43m(\u001b[49m\u001b[43mG\u001b[49m\u001b[43m,\u001b[49m\u001b[43m \u001b[49m\u001b[38;5;241;43m3\u001b[39;49m\u001b[43m,\u001b[49m\u001b[43m \u001b[49m\u001b[38;5;241;43m5\u001b[39;49m\u001b[43m)\u001b[49m\n",
      "File \u001b[1;32m<class 'networkx.utils.decorators.argmap'> compilation 47:3\u001b[0m, in \u001b[0;36margmap_shortest_path_44\u001b[1;34m(G, source, target, weight, method, backend, **backend_kwargs)\u001b[0m\n\u001b[0;32m      1\u001b[0m \u001b[38;5;28;01mimport\u001b[39;00m \u001b[38;5;21;01mbz2\u001b[39;00m\n\u001b[0;32m      2\u001b[0m \u001b[38;5;28;01mimport\u001b[39;00m \u001b[38;5;21;01mcollections\u001b[39;00m\n\u001b[1;32m----> 3\u001b[0m \u001b[38;5;28;01mimport\u001b[39;00m \u001b[38;5;21;01mgzip\u001b[39;00m\n\u001b[0;32m      4\u001b[0m \u001b[38;5;28;01mimport\u001b[39;00m \u001b[38;5;21;01minspect\u001b[39;00m\n\u001b[0;32m      5\u001b[0m \u001b[38;5;28;01mimport\u001b[39;00m \u001b[38;5;21;01mitertools\u001b[39;00m\n",
      "File \u001b[1;32m~\\AppData\\Local\\Programs\\Python\\Python310\\lib\\site-packages\\networkx\\utils\\backends.py:633\u001b[0m, in \u001b[0;36m_dispatchable.__call__\u001b[1;34m(self, backend, *args, **kwargs)\u001b[0m\n\u001b[0;32m    628\u001b[0m \u001b[38;5;124;03m\"\"\"Returns the result of the original function, or the backend function if\u001b[39;00m\n\u001b[0;32m    629\u001b[0m \u001b[38;5;124;03mthe backend is specified and that backend implements `func`.\"\"\"\u001b[39;00m\n\u001b[0;32m    631\u001b[0m \u001b[38;5;28;01mif\u001b[39;00m \u001b[38;5;129;01mnot\u001b[39;00m backends:\n\u001b[0;32m    632\u001b[0m     \u001b[38;5;66;03m# Fast path if no backends are installed\u001b[39;00m\n\u001b[1;32m--> 633\u001b[0m     \u001b[38;5;28;01mreturn\u001b[39;00m \u001b[38;5;28mself\u001b[39m\u001b[38;5;241m.\u001b[39morig_func(\u001b[38;5;241m*\u001b[39margs, \u001b[38;5;241m*\u001b[39m\u001b[38;5;241m*\u001b[39mkwargs)\n\u001b[0;32m    635\u001b[0m \u001b[38;5;66;03m# Use `backend_name` in this function instead of `backend`\u001b[39;00m\n\u001b[0;32m    636\u001b[0m backend_name \u001b[38;5;241m=\u001b[39m backend\n",
      "File \u001b[1;32m~\\AppData\\Local\\Programs\\Python\\Python310\\lib\\site-packages\\networkx\\algorithms\\shortest_paths\\generic.py:182\u001b[0m, in \u001b[0;36mshortest_path\u001b[1;34m(G, source, target, weight, method)\u001b[0m\n\u001b[0;32m    179\u001b[0m \u001b[38;5;28;01melse\u001b[39;00m:\n\u001b[0;32m    180\u001b[0m     \u001b[38;5;66;03m# Find shortest source-target path.\u001b[39;00m\n\u001b[0;32m    181\u001b[0m     \u001b[38;5;28;01mif\u001b[39;00m method \u001b[38;5;241m==\u001b[39m \u001b[38;5;124m\"\u001b[39m\u001b[38;5;124munweighted\u001b[39m\u001b[38;5;124m\"\u001b[39m:\n\u001b[1;32m--> 182\u001b[0m         paths \u001b[38;5;241m=\u001b[39m \u001b[43mnx\u001b[49m\u001b[38;5;241;43m.\u001b[39;49m\u001b[43mbidirectional_shortest_path\u001b[49m\u001b[43m(\u001b[49m\u001b[43mG\u001b[49m\u001b[43m,\u001b[49m\u001b[43m \u001b[49m\u001b[43msource\u001b[49m\u001b[43m,\u001b[49m\u001b[43m \u001b[49m\u001b[43mtarget\u001b[49m\u001b[43m)\u001b[49m\n\u001b[0;32m    183\u001b[0m     \u001b[38;5;28;01melif\u001b[39;00m method \u001b[38;5;241m==\u001b[39m \u001b[38;5;124m\"\u001b[39m\u001b[38;5;124mdijkstra\u001b[39m\u001b[38;5;124m\"\u001b[39m:\n\u001b[0;32m    184\u001b[0m         _, paths \u001b[38;5;241m=\u001b[39m nx\u001b[38;5;241m.\u001b[39mbidirectional_dijkstra(G, source, target, weight)\n",
      "File \u001b[1;32m<class 'networkx.utils.decorators.argmap'> compilation 51:3\u001b[0m, in \u001b[0;36margmap_bidirectional_shortest_path_48\u001b[1;34m(G, source, target, backend, **backend_kwargs)\u001b[0m\n\u001b[0;32m      1\u001b[0m \u001b[38;5;28;01mimport\u001b[39;00m \u001b[38;5;21;01mbz2\u001b[39;00m\n\u001b[0;32m      2\u001b[0m \u001b[38;5;28;01mimport\u001b[39;00m \u001b[38;5;21;01mcollections\u001b[39;00m\n\u001b[1;32m----> 3\u001b[0m \u001b[38;5;28;01mimport\u001b[39;00m \u001b[38;5;21;01mgzip\u001b[39;00m\n\u001b[0;32m      4\u001b[0m \u001b[38;5;28;01mimport\u001b[39;00m \u001b[38;5;21;01minspect\u001b[39;00m\n\u001b[0;32m      5\u001b[0m \u001b[38;5;28;01mimport\u001b[39;00m \u001b[38;5;21;01mitertools\u001b[39;00m\n",
      "File \u001b[1;32m~\\AppData\\Local\\Programs\\Python\\Python310\\lib\\site-packages\\networkx\\utils\\backends.py:633\u001b[0m, in \u001b[0;36m_dispatchable.__call__\u001b[1;34m(self, backend, *args, **kwargs)\u001b[0m\n\u001b[0;32m    628\u001b[0m \u001b[38;5;124;03m\"\"\"Returns the result of the original function, or the backend function if\u001b[39;00m\n\u001b[0;32m    629\u001b[0m \u001b[38;5;124;03mthe backend is specified and that backend implements `func`.\"\"\"\u001b[39;00m\n\u001b[0;32m    631\u001b[0m \u001b[38;5;28;01mif\u001b[39;00m \u001b[38;5;129;01mnot\u001b[39;00m backends:\n\u001b[0;32m    632\u001b[0m     \u001b[38;5;66;03m# Fast path if no backends are installed\u001b[39;00m\n\u001b[1;32m--> 633\u001b[0m     \u001b[38;5;28;01mreturn\u001b[39;00m \u001b[38;5;28mself\u001b[39m\u001b[38;5;241m.\u001b[39morig_func(\u001b[38;5;241m*\u001b[39margs, \u001b[38;5;241m*\u001b[39m\u001b[38;5;241m*\u001b[39mkwargs)\n\u001b[0;32m    635\u001b[0m \u001b[38;5;66;03m# Use `backend_name` in this function instead of `backend`\u001b[39;00m\n\u001b[0;32m    636\u001b[0m backend_name \u001b[38;5;241m=\u001b[39m backend\n",
      "File \u001b[1;32m~\\AppData\\Local\\Programs\\Python\\Python310\\lib\\site-packages\\networkx\\algorithms\\shortest_paths\\unweighted.py:247\u001b[0m, in \u001b[0;36mbidirectional_shortest_path\u001b[1;34m(G, source, target)\u001b[0m\n\u001b[0;32m    244\u001b[0m     \u001b[38;5;28;01mraise\u001b[39;00m nx\u001b[38;5;241m.\u001b[39mNodeNotFound(msg)\n\u001b[0;32m    246\u001b[0m \u001b[38;5;66;03m# call helper to do the real work\u001b[39;00m\n\u001b[1;32m--> 247\u001b[0m results \u001b[38;5;241m=\u001b[39m \u001b[43m_bidirectional_pred_succ\u001b[49m\u001b[43m(\u001b[49m\u001b[43mG\u001b[49m\u001b[43m,\u001b[49m\u001b[43m \u001b[49m\u001b[43msource\u001b[49m\u001b[43m,\u001b[49m\u001b[43m \u001b[49m\u001b[43mtarget\u001b[49m\u001b[43m)\u001b[49m\n\u001b[0;32m    248\u001b[0m pred, succ, w \u001b[38;5;241m=\u001b[39m results\n\u001b[0;32m    250\u001b[0m \u001b[38;5;66;03m# build path from pred+w+succ\u001b[39;00m\n",
      "File \u001b[1;32m~\\AppData\\Local\\Programs\\Python\\Python310\\lib\\site-packages\\networkx\\algorithms\\shortest_paths\\unweighted.py:315\u001b[0m, in \u001b[0;36m_bidirectional_pred_succ\u001b[1;34m(G, source, target)\u001b[0m\n\u001b[0;32m    312\u001b[0m                 \u001b[38;5;28;01mif\u001b[39;00m w \u001b[38;5;129;01min\u001b[39;00m pred:  \u001b[38;5;66;03m# found path\u001b[39;00m\n\u001b[0;32m    313\u001b[0m                     \u001b[38;5;28;01mreturn\u001b[39;00m pred, succ, w\n\u001b[1;32m--> 315\u001b[0m \u001b[38;5;28;01mraise\u001b[39;00m nx\u001b[38;5;241m.\u001b[39mNetworkXNoPath(\u001b[38;5;124mf\u001b[39m\u001b[38;5;124m\"\u001b[39m\u001b[38;5;124mNo path between \u001b[39m\u001b[38;5;132;01m{\u001b[39;00msource\u001b[38;5;132;01m}\u001b[39;00m\u001b[38;5;124m and \u001b[39m\u001b[38;5;132;01m{\u001b[39;00mtarget\u001b[38;5;132;01m}\u001b[39;00m\u001b[38;5;124m.\u001b[39m\u001b[38;5;124m\"\u001b[39m)\n",
      "\u001b[1;31mNetworkXNoPath\u001b[0m: No path between 3 and 5."
     ]
    }
   ],
   "source": [
    "nx.shortest_path(G, 3, 5)"
   ]
  },
  {
   "cell_type": "markdown",
   "id": "cae16beb",
   "metadata": {},
   "source": [
    "Visually, we can identify two connected components in our graph. Let's verify this:"
   ]
  },
  {
   "cell_type": "code",
   "execution_count": 58,
   "id": "5a2e6070",
   "metadata": {},
   "outputs": [
    {
     "data": {
      "text/plain": [
       "2"
      ]
     },
     "execution_count": 58,
     "metadata": {},
     "output_type": "execute_result"
    }
   ],
   "source": [
    "nx.number_connected_components(G)"
   ]
  },
  {
   "cell_type": "markdown",
   "id": "108f5123",
   "metadata": {},
   "source": [
    "The `nx.connected_components()` function takes a graph and returns a list of sets of node names, one such set for each connected component. Verify that the two sets in the following list correspond to the two connected components in the drawing of the graph above:"
   ]
  },
  {
   "cell_type": "code",
   "execution_count": 59,
   "id": "6587f57e",
   "metadata": {},
   "outputs": [
    {
     "data": {
      "text/plain": [
       "[{1, 2, 3}, {4, 5}]"
      ]
     },
     "execution_count": 59,
     "metadata": {},
     "output_type": "execute_result"
    }
   ],
   "source": [
    "list(nx.connected_components(G))"
   ]
  },
  {
   "cell_type": "markdown",
   "id": "fe158230",
   "metadata": {},
   "source": [
    "In case you're not familiar with Python sets, they are collections of items without duplicates. These are useful for collecting node names because node names should be unique. As with other collections, we can get the number of items in a set with the `len` function:"
   ]
  },
  {
   "cell_type": "code",
   "execution_count": 60,
   "id": "dab2aef5",
   "metadata": {},
   "outputs": [
    {
     "data": {
      "text/plain": [
       "3"
      ]
     },
     "execution_count": 60,
     "metadata": {},
     "output_type": "execute_result"
    }
   ],
   "source": [
    "components = list(nx.connected_components(G))\n",
    "len(components[0])"
   ]
  },
  {
   "cell_type": "markdown",
   "id": "a9603662",
   "metadata": {},
   "source": [
    "We often care about the largest connected component, which is sometimes referred to as the core of the network. We can make use of Python's builtin `max` function in order to obtain the largest connected component. By default, Python's `max` function sorts things in lexicographic (i.e. alphabetical) order, which is not helpful here. We want the maximum connected component when sorted in order of their sizes, so we pass `len` as a key function:"
   ]
  },
  {
   "cell_type": "code",
   "execution_count": 61,
   "id": "5ca17f2a",
   "metadata": {},
   "outputs": [
    {
     "data": {
      "text/plain": [
       "{1, 2, 3}"
      ]
     },
     "execution_count": 61,
     "metadata": {},
     "output_type": "execute_result"
    }
   ],
   "source": [
    "max(nx.connected_components(G), key=len)"
   ]
  },
  {
   "cell_type": "markdown",
   "id": "92950547",
   "metadata": {},
   "source": [
    "While it's often enough to just have the list of node names, sometimes we need the actual subgraph consisting of the largest connected component. One way to get this is to pass the list of node names to the `G.subgraph()` function:"
   ]
  },
  {
   "cell_type": "code",
   "execution_count": 62,
   "id": "4f2158a7",
   "metadata": {},
   "outputs": [
    {
     "data": {
      "image/png": "[encoded data removed]",
      "text/plain": [
       "<Figure size 432x288 with 1 Axes>"
      ]
     },
     "metadata": {},
     "output_type": "display_data"
    }
   ],
   "source": [
    "core_nodes = max(nx.connected_components(G), key=len)\n",
    "core = G.subgraph(core_nodes)\n",
    "\n",
    "nx.draw(core, with_labels=True)"
   ]
  },
  {
   "cell_type": "markdown",
   "id": "46a147fa",
   "metadata": {},
   "source": [
    "Those of you using tab-completion will also notice a `nx.connected_component_subgraphs()` function. This can also be used to get the core subgraph but the method shown is more efficient when you only care about the largest connected component.\n",
    "\n",
    "### Directed Paths & Components\n",
    "Let's extend these ideas about paths and connected components to directed graphs."
   ]
  },
  {
   "cell_type": "code",
   "execution_count": 63,
   "id": "06091717",
   "metadata": {},
   "outputs": [
    {
     "data": {
      "image/png": "[encoded data removed]",
      "text/plain": [
       "<Figure size 432x288 with 1 Axes>"
      ]
     },
     "metadata": {},
     "output_type": "display_data"
    }
   ],
   "source": [
    "D = nx.DiGraph()\n",
    "D.add_edges_from([\n",
    "    (1,2),\n",
    "    (2,3),\n",
    "    (3,2), (3,4), (3,5),\n",
    "    (4,2), (4,5), (4,6),\n",
    "    (5,6),\n",
    "    (6,4),\n",
    "])\n",
    "nx.draw(D, with_labels=True)"
   ]
  },
  {
   "cell_type": "markdown",
   "id": "b1e845f5",
   "metadata": {},
   "source": [
    "#### Directed Paths\n",
    "We know that in a directed graph, an edge from an arbitrary node $u$ to an arbitrary node $v$ does not imply that an edge exists from $v$ to $u$. Since paths must follow edge direction in directed graphs, the same asymmetry applies for paths. Observe that this graph has a path from 1 to 4, but not in the reverse direction."
   ]
  },
  {
   "cell_type": "code",
   "execution_count": 64,
   "id": "4cf924fd",
   "metadata": {},
   "outputs": [
    {
     "data": {
      "text/plain": [
       "True"
      ]
     },
     "execution_count": 64,
     "metadata": {},
     "output_type": "execute_result"
    }
   ],
   "source": [
    "nx.has_path(D, 1, 4)"
   ]
  },
  {
   "cell_type": "code",
   "execution_count": 65,
   "id": "3132bfe1",
   "metadata": {},
   "outputs": [
    {
     "data": {
      "text/plain": [
       "False"
      ]
     },
     "execution_count": 65,
     "metadata": {},
     "output_type": "execute_result"
    }
   ],
   "source": [
    "nx.has_path(D, 4, 1)"
   ]
  },
  {
   "cell_type": "markdown",
   "id": "b5cb9981",
   "metadata": {},
   "source": [
    "The other NetworkX functions dealing with paths take this asymmetry into account as well:"
   ]
  },
  {
   "cell_type": "code",
   "execution_count": 66,
   "id": "50dec7aa",
   "metadata": {},
   "outputs": [
    {
     "data": {
      "text/plain": [
       "[2, 3, 5]"
      ]
     },
     "execution_count": 66,
     "metadata": {},
     "output_type": "execute_result"
    }
   ],
   "source": [
    "nx.shortest_path(D, 2, 5)"
   ]
  },
  {
   "cell_type": "code",
   "execution_count": 67,
   "id": "a69c447a",
   "metadata": {},
   "outputs": [
    {
     "data": {
      "text/plain": [
       "[5, 6, 4, 2]"
      ]
     },
     "execution_count": 67,
     "metadata": {},
     "output_type": "execute_result"
    }
   ],
   "source": [
    "nx.shortest_path(D, 5, 2)"
   ]
  },
  {
   "cell_type": "markdown",
   "id": "32e44b7e",
   "metadata": {},
   "source": [
    "Since there is no edge from 5 to 3, the shortest path from 5 to 2 cannot simply backtrack the shortest path from 2 to 5 -- it has to go a longer route through nodes 6 and 4.\n",
    "\n",
    "#### Directed Components\n",
    "Directed networks have two kinds of connectivity. Strongly connected means that there exists a directed path between every pair of nodes, i.e., that from any node we can get to any other node while following edge directionality. Think of cars on a network of one-way streets: they can't drive against the flow of traffic."
   ]
  },
  {
   "cell_type": "code",
   "execution_count": 68,
   "id": "d3b29bc7",
   "metadata": {},
   "outputs": [
    {
     "data": {
      "text/plain": [
       "False"
      ]
     },
     "execution_count": 68,
     "metadata": {},
     "output_type": "execute_result"
    }
   ],
   "source": [
    "nx.is_strongly_connected(D)"
   ]
  },
  {
   "cell_type": "markdown",
   "id": "cbe33601",
   "metadata": {},
   "source": [
    "Weakly connected means that there exist a path between every pair of nodes, regardless of direction. Think about pedestrians on a network of one-way streets: they walk on the sidewalks so they don't care about the direction of traffic."
   ]
  },
  {
   "cell_type": "code",
   "execution_count": 69,
   "id": "40269bdf",
   "metadata": {},
   "outputs": [
    {
     "data": {
      "text/plain": [
       "True"
      ]
     },
     "execution_count": 69,
     "metadata": {},
     "output_type": "execute_result"
    }
   ],
   "source": [
    "nx.is_weakly_connected(D)"
   ]
  },
  {
   "cell_type": "markdown",
   "id": "a2504616",
   "metadata": {},
   "source": [
    "If a network is strongly connected, it is also weakly connected. The converse is not always true, as seen in this example.\n",
    "\n",
    "The `is_connected` function for undirected graphs will raise an error when given a directed graph."
   ]
  },
  {
   "cell_type": "code",
   "execution_count": 70,
   "id": "054bd580",
   "metadata": {},
   "outputs": [
    {
     "ename": "NetworkXNotImplemented",
     "evalue": "not implemented for directed type",
     "output_type": "error",
     "traceback": [
      "\u001b[1;31m---------------------------------------------------------------------------\u001b[0m",
      "\u001b[1;31mNetworkXNotImplemented\u001b[0m                    Traceback (most recent call last)",
      "Input \u001b[1;32mIn [70]\u001b[0m, in \u001b[0;36m<cell line: 2>\u001b[1;34m()\u001b[0m\n\u001b[0;32m      1\u001b[0m \u001b[38;5;66;03m# This will raise an error\u001b[39;00m\n\u001b[1;32m----> 2\u001b[0m \u001b[43mnx\u001b[49m\u001b[38;5;241;43m.\u001b[39;49m\u001b[43mis_connected\u001b[49m\u001b[43m(\u001b[49m\u001b[43mD\u001b[49m\u001b[43m)\u001b[49m\n",
      "File \u001b[1;32m<class 'networkx.utils.decorators.argmap'> compilation 21:3\u001b[0m, in \u001b[0;36margmap_is_connected_17\u001b[1;34m(G, backend, **backend_kwargs)\u001b[0m\n\u001b[0;32m      1\u001b[0m \u001b[38;5;28;01mimport\u001b[39;00m \u001b[38;5;21;01mbz2\u001b[39;00m\n\u001b[0;32m      2\u001b[0m \u001b[38;5;28;01mimport\u001b[39;00m \u001b[38;5;21;01mcollections\u001b[39;00m\n\u001b[1;32m----> 3\u001b[0m \u001b[38;5;28;01mimport\u001b[39;00m \u001b[38;5;21;01mgzip\u001b[39;00m\n\u001b[0;32m      4\u001b[0m \u001b[38;5;28;01mimport\u001b[39;00m \u001b[38;5;21;01minspect\u001b[39;00m\n\u001b[0;32m      5\u001b[0m \u001b[38;5;28;01mimport\u001b[39;00m \u001b[38;5;21;01mitertools\u001b[39;00m\n",
      "File \u001b[1;32m~\\AppData\\Local\\Programs\\Python\\Python310\\lib\\site-packages\\networkx\\utils\\decorators.py:92\u001b[0m, in \u001b[0;36mnot_implemented_for.<locals>._not_implemented_for\u001b[1;34m(g)\u001b[0m\n\u001b[0;32m     88\u001b[0m \u001b[38;5;28;01mdef\u001b[39;00m \u001b[38;5;21m_not_implemented_for\u001b[39m(g):\n\u001b[0;32m     89\u001b[0m     \u001b[38;5;28;01mif\u001b[39;00m (mval \u001b[38;5;129;01mis\u001b[39;00m \u001b[38;5;28;01mNone\u001b[39;00m \u001b[38;5;129;01mor\u001b[39;00m mval \u001b[38;5;241m==\u001b[39m g\u001b[38;5;241m.\u001b[39mis_multigraph()) \u001b[38;5;129;01mand\u001b[39;00m (\n\u001b[0;32m     90\u001b[0m         dval \u001b[38;5;129;01mis\u001b[39;00m \u001b[38;5;28;01mNone\u001b[39;00m \u001b[38;5;129;01mor\u001b[39;00m dval \u001b[38;5;241m==\u001b[39m g\u001b[38;5;241m.\u001b[39mis_directed()\n\u001b[0;32m     91\u001b[0m     ):\n\u001b[1;32m---> 92\u001b[0m         \u001b[38;5;28;01mraise\u001b[39;00m nx\u001b[38;5;241m.\u001b[39mNetworkXNotImplemented(errmsg)\n\u001b[0;32m     94\u001b[0m     \u001b[38;5;28;01mreturn\u001b[39;00m g\n",
      "\u001b[1;31mNetworkXNotImplemented\u001b[0m: not implemented for directed type"
     ]
    }
   ],
   "source": [
    "# This will raise an error\n",
    "nx.is_connected(D)"
   ]
  },
  {
   "cell_type": "markdown",
   "id": "24d024e0",
   "metadata": {},
   "source": [
    "In the directed case, instead of `nx.connected_components` we now have `nx.weakly_connected_components` and `nx.strongly_connected_components`:"
   ]
  },
  {
   "cell_type": "code",
   "execution_count": 71,
   "id": "60195932",
   "metadata": {},
   "outputs": [
    {
     "data": {
      "text/plain": [
       "[{1, 2, 3, 4, 5, 6}]"
      ]
     },
     "execution_count": 71,
     "metadata": {},
     "output_type": "execute_result"
    }
   ],
   "source": [
    "list(nx.weakly_connected_components(D))"
   ]
  },
  {
   "cell_type": "code",
   "execution_count": 72,
   "id": "661a8073",
   "metadata": {},
   "outputs": [
    {
     "data": {
      "text/plain": [
       "[{2, 3, 4, 5, 6}, {1}]"
      ]
     },
     "execution_count": 72,
     "metadata": {},
     "output_type": "execute_result"
    }
   ],
   "source": [
    "list(nx.strongly_connected_components(D))"
   ]
  },
  {
   "cell_type": "markdown",
   "id": "782ce92d",
   "metadata": {},
   "source": [
    "### Dataset: US Air Traffic Network"
   ]
  },
  {
   "cell_type": "code",
   "execution_count": 73,
   "id": "0647f2e4",
   "metadata": {},
   "outputs": [],
   "source": [
    "G = nx.read_graphml(r\"C:\\Users\\Julia\\Desktop\\Activity 2_Juliana Ramayo\\openflights_usa.graphml.gz\")"
   ]
  },
  {
   "cell_type": "markdown",
   "id": "507ed654",
   "metadata": {},
   "source": [
    "The nodes in this graph are airports, represented by their IATA codes; two nodes are connected with an edge if there is a scheduled flight directly connecting these two airports. We'll assume this graph to be undirected since a flight in one direction usually means there is a return flight.\n",
    "\n",
    "Thus this graph has edges\n",
    "\n",
    "`[('HOM', 'ANC'), ('BGM', 'PHL'), ('BGM', 'IAD'), ...]`\n",
    "\n",
    "where ANC is Anchorage, IAD is Washington Dulles, etc.\n",
    "\n",
    "These nodes also have **attributes** associated with them, containing additional information about the airports:"
   ]
  },
  {
   "cell_type": "code",
   "execution_count": 74,
   "id": "85158b06",
   "metadata": {},
   "outputs": [
    {
     "data": {
      "text/plain": [
       "{'name': 'Indianapolis International Airport',\n",
       " 'latitude': 39.7173,\n",
       " 'longitude': -86.294403,\n",
       " 'IATA': 'IND'}"
      ]
     },
     "execution_count": 74,
     "metadata": {},
     "output_type": "execute_result"
    }
   ],
   "source": [
    "G.nodes['IND']"
   ]
  },
  {
   "cell_type": "markdown",
   "id": "3aa8d871",
   "metadata": {},
   "source": [
    "Node attributes are stored as a dictionary, so the values can be accessed individually as such:"
   ]
  },
  {
   "cell_type": "code",
   "execution_count": 75,
   "id": "eb773836",
   "metadata": {},
   "outputs": [
    {
     "data": {
      "text/plain": [
       "'Indianapolis International Airport'"
      ]
     },
     "execution_count": 75,
     "metadata": {},
     "output_type": "execute_result"
    }
   ],
   "source": [
    "G.nodes['IND']['name']"
   ]
  },
  {
   "cell_type": "markdown",
   "id": "e95f82fc",
   "metadata": {},
   "source": [
    "#### EXERCISE 1\n",
    "Is there a direct flight between Indianapolis and Fairbanks, Alaska (FAI)? A direct flight is one with no intermediate stops."
   ]
  },
  {
   "cell_type": "code",
   "execution_count": 76,
   "id": "2b773c78",
   "metadata": {},
   "outputs": [
    {
     "data": {
      "text/plain": [
       "False"
      ]
     },
     "execution_count": 76,
     "metadata": {},
     "output_type": "execute_result"
    }
   ],
   "source": [
    "G.has_edge('IND', 'FAI')"
   ]
  },
  {
   "cell_type": "markdown",
   "id": "7730bb87",
   "metadata": {},
   "source": [
    "No, there is not a direct flight between Indianapolis to Fairbanks.\n",
    "\n",
    "#### EXERCISE 2\n",
    "If I wanted to fly from Indianapolis to Fairbanks, Alaska what would be an itinerary with the fewest number of flights?"
   ]
  },
  {
   "cell_type": "code",
   "execution_count": 77,
   "id": "6b663ab2",
   "metadata": {},
   "outputs": [
    {
     "data": {
      "text/plain": [
       "['IND', 'BOS', 'SEA', 'FAI']"
      ]
     },
     "execution_count": 77,
     "metadata": {},
     "output_type": "execute_result"
    }
   ],
   "source": [
    "nx.shortest_path(G, 'IND', 'FAI')"
   ]
  },
  {
   "cell_type": "markdown",
   "id": "1d5c99e0",
   "metadata": {},
   "source": [
    "The route would stop 3 times.\n",
    "\n",
    "#### EXERCISE 3\n",
    "Is it possible to travel from any airport in the US to any other airport in the US, possibly using connecting flights? In other words, does there exist a path in the network between every possible pair of airports?"
   ]
  },
  {
   "cell_type": "code",
   "execution_count": 78,
   "id": "1e17cf6b",
   "metadata": {},
   "outputs": [
    {
     "data": {
      "text/plain": [
       "False"
      ]
     },
     "execution_count": 78,
     "metadata": {},
     "output_type": "execute_result"
    }
   ],
   "source": [
    "nx.is_connected(G)"
   ]
  },
  {
   "cell_type": "markdown",
   "id": "000faa9f",
   "metadata": {},
   "source": [
    "There are certain airports that cannot be reached from others through any series of connections.\n",
    "\n",
    "## Chapter 3\n",
    "### Finding Hubs\n",
    "Often when looking at a network, we want to find the most \"important\" nodes, for some definition of important. The most basic measure of centrality is the *degree*, or number of links attached to a node.\n",
    "\n",
    "Let's look at the Enron executive email graph:"
   ]
  },
  {
   "cell_type": "code",
   "execution_count": 79,
   "id": "79a668ba",
   "metadata": {},
   "outputs": [
    {
     "name": "stdout",
     "output_type": "stream",
     "text": [
      "Graph with 143 nodes and 623 edges\n"
     ]
    },
    {
     "data": {
      "image/png": "[encoded data removed]",
      "text/plain": [
       "<Figure size 432x288 with 1 Axes>"
      ]
     },
     "metadata": {},
     "output_type": "display_data"
    }
   ],
   "source": [
    "G = nx.read_edgelist(r\"C:\\Users\\Julia\\Desktop\\Activity 2_Juliana Ramayo\\ia-enron-only.edges\", nodetype=int)\n",
    "print(G)\n",
    "nx.draw(G)"
   ]
  },
  {
   "cell_type": "markdown",
   "id": "55db2e08",
   "metadata": {},
   "source": [
    "#### Caveat: by default, `nx.read_edgelist` assumes node names are strings\n",
    "Edge lists are a simple, plain text format for storing graphs. Since this simple file format doesn't contain information about data types, all node names are assumed to be strings by default. When the node names are given by integers, as they are in this example, we should specify the `nodetype=int` keyword argument to avoid confusion with the node names.\n",
    "\n",
    "#### Aside: the `max` function\n",
    "We're going to make use of Python's built-in `max` function in order to find the node with the highest degree.\n",
    "\n",
    "First, let us recall what the `max` function does. At its most basic, the `max` function returns the \"greatest\" item in a sequence:"
   ]
  },
  {
   "cell_type": "code",
   "execution_count": 80,
   "id": "4b58086a",
   "metadata": {},
   "outputs": [
    {
     "data": {
      "text/plain": [
       "5"
      ]
     },
     "execution_count": 80,
     "metadata": {},
     "output_type": "execute_result"
    }
   ],
   "source": [
    "max([1,2,3,4,5])"
   ]
  },
  {
   "cell_type": "markdown",
   "id": "d3675b60",
   "metadata": {},
   "source": [
    "But the \"greatest\" item is not always obvious:"
   ]
  },
  {
   "cell_type": "code",
   "execution_count": 81,
   "id": "278e4b2a",
   "metadata": {},
   "outputs": [
    {
     "data": {
      "text/plain": [
       "'grape'"
      ]
     },
     "execution_count": 81,
     "metadata": {},
     "output_type": "execute_result"
    }
   ],
   "source": [
    "max(['apple', 'grape', 'carrot'])"
   ]
  },
  {
   "cell_type": "markdown",
   "id": "84e8b64a",
   "metadata": {},
   "source": [
    "Why is grape greater than the other options? Because the default sort for strings is lexicographical (basically alphabetical) order. If we don't want this default ordering, we can specify a key function, which tells Python how to compare the items:"
   ]
  },
  {
   "cell_type": "code",
   "execution_count": 82,
   "id": "241a61b0",
   "metadata": {},
   "outputs": [
    {
     "data": {
      "text/plain": [
       "'carrot'"
      ]
     },
     "execution_count": 82,
     "metadata": {},
     "output_type": "execute_result"
    }
   ],
   "source": [
    "max(['apple', 'grape', 'carrot'], key=len)"
   ]
  },
  {
   "cell_type": "markdown",
   "id": "61be1d7f",
   "metadata": {},
   "source": [
    "Now `carrot` is the greatest element, because we're comparing the items by their length.\n",
    "\n",
    "#### Finding the node with max degree\n",
    "We can apply the `max` function to get the maximum node according to some criterion. In our case, we want to compare the nodes by their degree:"
   ]
  },
  {
   "cell_type": "code",
   "execution_count": 83,
   "id": "c6978adf",
   "metadata": {},
   "outputs": [
    {
     "data": {
      "text/plain": [
       "105"
      ]
     },
     "execution_count": 83,
     "metadata": {},
     "output_type": "execute_result"
    }
   ],
   "source": [
    "highest_degree_node = max(G.nodes, key=G.degree)\n",
    "highest_degree_node"
   ]
  },
  {
   "cell_type": "code",
   "execution_count": 84,
   "id": "834fb977",
   "metadata": {},
   "outputs": [
    {
     "data": {
      "text/plain": [
       "42"
      ]
     },
     "execution_count": 84,
     "metadata": {},
     "output_type": "execute_result"
    }
   ],
   "source": [
    "G.degree(highest_degree_node)"
   ]
  },
  {
   "cell_type": "markdown",
   "id": "a45e009d",
   "metadata": {},
   "source": [
    "So we know that node `105` has 42 edges connected to it. Let's look at that calculation a little closer:\n",
    "\n",
    "`max(G.nodes, key=G.degree)`\n",
    "\n",
    "We're telling the `max` function that we want the item from `G.nodes` that gives us the highest value when passed to the key function `G.degree`.\n",
    "\n",
    "This construction works because `G.degree` is a function. Some other measures of centrality such as betweenness generate all of the nodes' centrality values at once and return a `dict`. In this case, we need an extra step:"
   ]
  },
  {
   "cell_type": "code",
   "execution_count": 85,
   "id": "c02494ad",
   "metadata": {},
   "outputs": [
    {
     "data": {
      "text/plain": [
       "105"
      ]
     },
     "execution_count": 85,
     "metadata": {},
     "output_type": "execute_result"
    }
   ],
   "source": [
    "betweenness = nx.centrality.betweenness_centrality(G)\n",
    "highest_betweenness_node = max(G.nodes, key=betweenness.get)\n",
    "highest_betweenness_node"
   ]
  },
  {
   "cell_type": "code",
   "execution_count": 86,
   "id": "2c87aa26",
   "metadata": {},
   "outputs": [
    {
     "data": {
      "text/plain": [
       "0.19400604344556296"
      ]
     },
     "execution_count": 86,
     "metadata": {},
     "output_type": "execute_result"
    }
   ],
   "source": [
    "betweenness[highest_betweenness_node]"
   ]
  },
  {
   "cell_type": "markdown",
   "id": "7e3e1b33",
   "metadata": {},
   "source": [
    "Note that the following will throw an error:"
   ]
  },
  {
   "cell_type": "code",
   "execution_count": 87,
   "id": "5b989e77",
   "metadata": {},
   "outputs": [
    {
     "ename": "TypeError",
     "evalue": "'dict' object is not callable",
     "output_type": "error",
     "traceback": [
      "\u001b[1;31m---------------------------------------------------------------------------\u001b[0m",
      "\u001b[1;31mTypeError\u001b[0m                                 Traceback (most recent call last)",
      "Input \u001b[1;32mIn [87]\u001b[0m, in \u001b[0;36m<cell line: 1>\u001b[1;34m()\u001b[0m\n\u001b[1;32m----> 1\u001b[0m \u001b[38;5;28;43mmax\u001b[39;49m\u001b[43m(\u001b[49m\u001b[43mG\u001b[49m\u001b[38;5;241;43m.\u001b[39;49m\u001b[43mnodes\u001b[49m\u001b[43m,\u001b[49m\u001b[43m \u001b[49m\u001b[43mkey\u001b[49m\u001b[38;5;241;43m=\u001b[39;49m\u001b[43mbetweenness\u001b[49m\u001b[43m)\u001b[49m\n",
      "\u001b[1;31mTypeError\u001b[0m: 'dict' object is not callable"
     ]
    }
   ],
   "source": [
    "max(G.nodes, key=betweenness)"
   ]
  },
  {
   "cell_type": "markdown",
   "id": "b6773a2b",
   "metadata": {},
   "source": [
    "This is because we need to provide a function to the `key` argument, but `betweenness` is a dict. To get around this, we use the dict's `get` method.\n",
    "\n",
    "### Centrality Distributions\n",
    "We've found the most central node in the network, but often we want to summarize information about the centrality of all nodes. For example, in addition to the maxmimum degree, we often want the mean and median degree in a network.\n",
    "\n",
    "The first step in summarizing this information is to get a sequence of all of the centrality values in the graph. We don't care about the node names anymore, we just want a sequence of numbers. We can start with the example of degree:"
   ]
  },
  {
   "cell_type": "code",
   "execution_count": 88,
   "id": "d89d7594",
   "metadata": {},
   "outputs": [],
   "source": [
    "degree_sequence = [G.degree(n) for n in G.nodes]"
   ]
  },
  {
   "cell_type": "markdown",
   "id": "36f4fd74",
   "metadata": {},
   "source": [
    "To get the mean and median of this sequence, we can use Python's built-in `statistics` module:"
   ]
  },
  {
   "cell_type": "code",
   "execution_count": 89,
   "id": "a2a0b5a1",
   "metadata": {},
   "outputs": [
    {
     "name": "stdout",
     "output_type": "stream",
     "text": [
      "Mean degree: 8.713286713286713\n",
      "Median degree: 8\n"
     ]
    }
   ],
   "source": [
    "import statistics\n",
    "\n",
    "print('Mean degree:', statistics.mean(degree_sequence))\n",
    "print('Median degree:', statistics.median(degree_sequence))"
   ]
  },
  {
   "cell_type": "markdown",
   "id": "5d87e4cb",
   "metadata": {},
   "source": [
    "For other measures of centrality, which are calculated for the whole network at once and return a dict, we can use the dict's `.values()`."
   ]
  },
  {
   "cell_type": "code",
   "execution_count": 90,
   "id": "04efcb00",
   "metadata": {},
   "outputs": [
    {
     "name": "stdout",
     "output_type": "stream",
     "text": [
      "Mean betweenness: 0.013950388838012454\n",
      "Median betweenness: 0.0037492834763570323\n"
     ]
    }
   ],
   "source": [
    "betweenness = nx.centrality.betweenness_centrality(G)\n",
    "betweenness_sequence = list(betweenness.values())\n",
    "\n",
    "print('Mean betweenness:', statistics.mean(betweenness_sequence))\n",
    "print('Median betweenness:', statistics.median(betweenness_sequence))"
   ]
  },
  {
   "cell_type": "markdown",
   "id": "6b734a45",
   "metadata": {},
   "source": [
    "#### Plotting the Distributions\n",
    "We can graphically represent the sequence of centrality values by using a *histogram*. In its basic form, a histogram plots the degree values on the x-axis, and the number of nodes having that degree on the y-axis. To do this counting, we can make use of Python's `collections.Counter`."
   ]
  },
  {
   "cell_type": "code",
   "execution_count": 91,
   "id": "9e591d0f",
   "metadata": {},
   "outputs": [
    {
     "data": {
      "text/plain": [
       "Counter({30: 1,\n",
       "         2: 16,\n",
       "         17: 5,\n",
       "         12: 5,\n",
       "         13: 3,\n",
       "         16: 5,\n",
       "         10: 9,\n",
       "         11: 10,\n",
       "         18: 3,\n",
       "         20: 1,\n",
       "         15: 3,\n",
       "         19: 2,\n",
       "         7: 9,\n",
       "         14: 6,\n",
       "         9: 16,\n",
       "         42: 1,\n",
       "         8: 6,\n",
       "         5: 8,\n",
       "         6: 7,\n",
       "         1: 6,\n",
       "         4: 11,\n",
       "         23: 1,\n",
       "         3: 9})"
      ]
     },
     "execution_count": 91,
     "metadata": {},
     "output_type": "execute_result"
    }
   ],
   "source": [
    "from collections import Counter\n",
    "\n",
    "degree_counts = Counter(degree_sequence)\n",
    "degree_counts"
   ]
  },
  {
   "cell_type": "markdown",
   "id": "b8af91fe",
   "metadata": {},
   "source": [
    "The `Counter` object returned is like a dict, pairing the item counted with the number of times it showed up in the sequence.\n",
    "\n",
    "On this basic histogram plot, we want an x-value for every integer between the minimum and maximum degree in the sequence, inclusive. Note that `degree_counts.keys()` gives us every distinct value seen in the degree sequence. Also note that we need the +1 in the `range` below because we want to include the right endpoint."
   ]
  },
  {
   "cell_type": "code",
   "execution_count": 92,
   "id": "747985c6",
   "metadata": {},
   "outputs": [],
   "source": [
    "min_degree, max_degree = min(degree_counts.keys()), max(degree_counts.keys())\n",
    "\n",
    "plot_x = list(range(min_degree, max_degree + 1))"
   ]
  },
  {
   "cell_type": "markdown",
   "id": "cbde6cea",
   "metadata": {},
   "source": [
    "Our y-values are then the number of times we counted each x-value in the degree sequence. We can make use of the .get method with a default value in order to count 0 for degree values that don't show up in the sequence. For example, notice that 32 does not show up in `degree_counts` above, so `degree_counts.get(32, 0)` will give us 0."
   ]
  },
  {
   "cell_type": "code",
   "execution_count": 93,
   "id": "65044b0d",
   "metadata": {},
   "outputs": [],
   "source": [
    "plot_y = [degree_counts.get(x, 0) for x in plot_x]"
   ]
  },
  {
   "cell_type": "markdown",
   "id": "2d0b34fd",
   "metadata": {},
   "source": [
    "To do the plotting, we use Matplotlib's `pyplot` module."
   ]
  },
  {
   "cell_type": "code",
   "execution_count": 94,
   "id": "09d02739",
   "metadata": {},
   "outputs": [
    {
     "data": {
      "text/plain": [
       "<BarContainer object of 42 artists>"
      ]
     },
     "execution_count": 94,
     "metadata": {},
     "output_type": "execute_result"
    },
    {
     "data": {
      "image/png": "[encoded data removed]",
      "text/plain": [
       "<Figure size 432x288 with 1 Axes>"
      ]
     },
     "metadata": {
      "needs_background": "light"
     },
     "output_type": "display_data"
    }
   ],
   "source": [
    "import matplotlib.pyplot as plt\n",
    "\n",
    "plt.bar(plot_x, plot_y)"
   ]
  },
  {
   "cell_type": "markdown",
   "id": "617f5e6d",
   "metadata": {},
   "source": [
    "#### Histogram Binning\n",
    "When there are more x-values than you can comfortably display, or when your centrality measure is not discrete, as in the case of betweenness centrality, we can make use of histogram \"binning.\" This just defines a sequence of disjoint intervals called bins, and counts the number of values that fall into each such bin. In the simplest of cases, we can just tell Pyplot's `hist` function how many bins we want and it will do the binning for us."
   ]
  },
  {
   "cell_type": "code",
   "execution_count": 95,
   "id": "41324358",
   "metadata": {},
   "outputs": [
    {
     "data": {
      "image/png": "[encoded data removed]",
      "text/plain": [
       "<Figure size 432x288 with 1 Axes>"
      ]
     },
     "metadata": {
      "needs_background": "light"
     },
     "output_type": "display_data"
    }
   ],
   "source": [
    "counts, bins, patches = plt.hist(betweenness_sequence, bins=10)"
   ]
  },
  {
   "cell_type": "markdown",
   "id": "757d1b1d",
   "metadata": {},
   "source": [
    "We can investigate the returned `bins` and `counts` if we want:"
   ]
  },
  {
   "cell_type": "code",
   "execution_count": 96,
   "id": "b4bfe943",
   "metadata": {},
   "outputs": [
    {
     "data": {
      "text/plain": [
       "array([0.        , 0.0194006 , 0.03880121, 0.05820181, 0.07760242,\n",
       "       0.09700302, 0.11640363, 0.13580423, 0.15520483, 0.17460544,\n",
       "       0.19400604])"
      ]
     },
     "execution_count": 96,
     "metadata": {},
     "output_type": "execute_result"
    }
   ],
   "source": [
    "bins"
   ]
  },
  {
   "cell_type": "code",
   "execution_count": 97,
   "id": "886107b1",
   "metadata": {},
   "outputs": [
    {
     "data": {
      "text/plain": [
       "array([115.,  13.,   6.,   4.,   3.,   1.,   0.,   0.,   0.,   1.])"
      ]
     },
     "execution_count": 97,
     "metadata": {},
     "output_type": "execute_result"
    }
   ],
   "source": [
    "counts"
   ]
  },
  {
   "cell_type": "markdown",
   "id": "f2701ff3",
   "metadata": {},
   "source": [
    "From these, we can see that there are 115 values between 0 and 0.0194006, 13 values between 0.194006 and 0.3880121, etc.\n",
    "\n",
    "### Testing Robustness\n",
    "Another way to think about the relative \"importance\" of nodes in a network is to measure how much it would damage the network structure if particular nodes were to be removed. In real life, node removal might be a person moving away and out of a social network, someone changing jobs and being removed from an email network, internet routers being attacked/overloaded and going down, etc.\n",
    "\n",
    "Broadly, we consider two types of network damage: random failure and targeted attack. In a random failure, nodes are chosen randomly for removal. In a targeted attack, we will remove nodes based on some criterion, for example, removing nodes in decreasing order of their degree centrality.\n",
    "\n",
    "#### Connected Components\n",
    "In order to measure \"damage,\" we will measure the size of the network's largest connected component, sometimes called core. First we observe that `nx.connected_components` is a generator that provides the connected components one at a time."
   ]
  },
  {
   "cell_type": "code",
   "execution_count": 98,
   "id": "9628ef71",
   "metadata": {},
   "outputs": [
    {
     "data": {
      "text/plain": [
       "<generator object connected_components at 0x0000018CD619F6F0>"
      ]
     },
     "execution_count": 98,
     "metadata": {},
     "output_type": "execute_result"
    }
   ],
   "source": [
    "nx.connected_components(G)"
   ]
  },
  {
   "cell_type": "markdown",
   "id": "65e4cce1",
   "metadata": {},
   "source": [
    "Since we often only want the core, or largest connected component, we can use the max function to get it. Each component is provided as a set of node names:"
   ]
  },
  {
   "cell_type": "code",
   "execution_count": 99,
   "id": "56d3757f",
   "metadata": {},
   "outputs": [
    {
     "data": {
      "text/plain": [
       "{1,\n",
       " 2,\n",
       " 3,\n",
       " 4,\n",
       " 5,\n",
       " 6,\n",
       " 7,\n",
       " 8,\n",
       " 9,\n",
       " 10,\n",
       " 11,\n",
       " 12,\n",
       " 13,\n",
       " 14,\n",
       " 15,\n",
       " 16,\n",
       " 17,\n",
       " 18,\n",
       " 19,\n",
       " 20,\n",
       " 21,\n",
       " 22,\n",
       " 23,\n",
       " 24,\n",
       " 25,\n",
       " 26,\n",
       " 27,\n",
       " 28,\n",
       " 29,\n",
       " 30,\n",
       " 31,\n",
       " 32,\n",
       " 33,\n",
       " 34,\n",
       " 35,\n",
       " 36,\n",
       " 37,\n",
       " 38,\n",
       " 39,\n",
       " 40,\n",
       " 41,\n",
       " 42,\n",
       " 43,\n",
       " 44,\n",
       " 45,\n",
       " 46,\n",
       " 47,\n",
       " 48,\n",
       " 49,\n",
       " 50,\n",
       " 51,\n",
       " 52,\n",
       " 53,\n",
       " 54,\n",
       " 55,\n",
       " 56,\n",
       " 57,\n",
       " 58,\n",
       " 59,\n",
       " 60,\n",
       " 61,\n",
       " 62,\n",
       " 63,\n",
       " 64,\n",
       " 65,\n",
       " 66,\n",
       " 67,\n",
       " 68,\n",
       " 69,\n",
       " 70,\n",
       " 71,\n",
       " 72,\n",
       " 73,\n",
       " 74,\n",
       " 75,\n",
       " 76,\n",
       " 77,\n",
       " 78,\n",
       " 79,\n",
       " 80,\n",
       " 81,\n",
       " 82,\n",
       " 83,\n",
       " 84,\n",
       " 85,\n",
       " 86,\n",
       " 87,\n",
       " 88,\n",
       " 89,\n",
       " 90,\n",
       " 91,\n",
       " 92,\n",
       " 93,\n",
       " 94,\n",
       " 95,\n",
       " 96,\n",
       " 97,\n",
       " 98,\n",
       " 99,\n",
       " 100,\n",
       " 101,\n",
       " 102,\n",
       " 103,\n",
       " 104,\n",
       " 105,\n",
       " 106,\n",
       " 107,\n",
       " 108,\n",
       " 109,\n",
       " 110,\n",
       " 111,\n",
       " 112,\n",
       " 113,\n",
       " 114,\n",
       " 115,\n",
       " 116,\n",
       " 117,\n",
       " 118,\n",
       " 119,\n",
       " 120,\n",
       " 121,\n",
       " 122,\n",
       " 123,\n",
       " 124,\n",
       " 125,\n",
       " 126,\n",
       " 127,\n",
       " 128,\n",
       " 129,\n",
       " 130,\n",
       " 131,\n",
       " 132,\n",
       " 133,\n",
       " 134,\n",
       " 135,\n",
       " 136,\n",
       " 137,\n",
       " 138,\n",
       " 139,\n",
       " 140,\n",
       " 141,\n",
       " 142,\n",
       " 143}"
      ]
     },
     "execution_count": 99,
     "metadata": {},
     "output_type": "execute_result"
    }
   ],
   "source": [
    "core = max(nx.connected_components(G), key=len)\n",
    "core"
   ]
  },
  {
   "cell_type": "markdown",
   "id": "cee7e6e6",
   "metadata": {},
   "source": [
    "So the `len` of this set gives us the number of nodes in this component:"
   ]
  },
  {
   "cell_type": "code",
   "execution_count": 100,
   "id": "0ce45f32",
   "metadata": {},
   "outputs": [
    {
     "data": {
      "text/plain": [
       "143"
      ]
     },
     "execution_count": 100,
     "metadata": {},
     "output_type": "execute_result"
    }
   ],
   "source": [
    "len(core)"
   ]
  },
  {
   "cell_type": "markdown",
   "id": "2b69cbe0",
   "metadata": {},
   "source": [
    "If we want all of the connected components, we can get a list of them:"
   ]
  },
  {
   "cell_type": "code",
   "execution_count": 101,
   "id": "e97fdf94",
   "metadata": {},
   "outputs": [],
   "source": [
    "components = list(nx.connected_components(G))"
   ]
  },
  {
   "cell_type": "markdown",
   "id": "0728fbcf",
   "metadata": {},
   "source": [
    "the length of this list is the number of connected components:"
   ]
  },
  {
   "cell_type": "code",
   "execution_count": 102,
   "id": "0dc6ddbe",
   "metadata": {},
   "outputs": [
    {
     "data": {
      "text/plain": [
       "1"
      ]
     },
     "execution_count": 102,
     "metadata": {},
     "output_type": "execute_result"
    }
   ],
   "source": [
    "len(components)"
   ]
  },
  {
   "cell_type": "markdown",
   "id": "111c31a5",
   "metadata": {},
   "source": [
    "#### Fandom Failure\n",
    "Whenever we're going to engage in a distructive process, we want to make a copy of the network graph to attack so that we can easily get back to the original state:"
   ]
  },
  {
   "cell_type": "code",
   "execution_count": 103,
   "id": "5e0ad833",
   "metadata": {},
   "outputs": [],
   "source": [
    "C = G.copy()"
   ]
  },
  {
   "cell_type": "markdown",
   "id": "9739e0d1",
   "metadata": {},
   "source": [
    "To simulate random failure, we randomly choose some node names and remove them from the graph. We can use `random.sample` to remove more than one node at at time. Note that we need to make a `list` of node names from which to randomly sample:"
   ]
  },
  {
   "cell_type": "code",
   "execution_count": 104,
   "id": "3ae95831",
   "metadata": {},
   "outputs": [],
   "source": [
    "import random\n",
    "\n",
    "nodes_to_remove = random.sample(list(C.nodes), 2)\n",
    "C.remove_nodes_from(nodes_to_remove)"
   ]
  },
  {
   "cell_type": "markdown",
   "id": "5f1a8f3f",
   "metadata": {},
   "source": [
    "The full simulation is going to work like this, beginning from a fresh copy of the network:\n",
    "\n",
    "1. Measure size of the network core as compared to the original network size\n",
    "2. Select M nodes at random and remove them\n",
    "3. Repeat until there are less than M nodes\n",
    "\n",
    "We'll determine M from how many steps we want this process to take. Around 25 steps should be good, so:"
   ]
  },
  {
   "cell_type": "code",
   "execution_count": 105,
   "id": "65da99a8",
   "metadata": {},
   "outputs": [
    {
     "data": {
      "text/plain": [
       "5"
      ]
     },
     "execution_count": 105,
     "metadata": {},
     "output_type": "execute_result"
    }
   ],
   "source": [
    "number_of_steps = 25\n",
    "M = G.number_of_nodes() // number_of_steps\n",
    "M"
   ]
  },
  {
   "cell_type": "markdown",
   "id": "adcd3848",
   "metadata": {},
   "source": [
    "We can then use `range` to generate a sequence of the total number of nodes removed at each step:"
   ]
  },
  {
   "cell_type": "code",
   "execution_count": 106,
   "id": "f7f0b3a4",
   "metadata": {},
   "outputs": [],
   "source": [
    "num_nodes_removed = range(0, G.number_of_nodes(), M)"
   ]
  },
  {
   "cell_type": "markdown",
   "id": "ef497391",
   "metadata": {},
   "source": [
    "The loop is fairly simple. At each step, we need to record the fraction of remaining nodes in the core."
   ]
  },
  {
   "cell_type": "code",
   "execution_count": 107,
   "id": "c58f6987",
   "metadata": {},
   "outputs": [],
   "source": [
    "N = G.number_of_nodes()\n",
    "C = G.copy()\n",
    "random_attack_core_proportions = []\n",
    "for nodes_removed in num_nodes_removed:\n",
    "    # Measure the relative size of the network core\n",
    "    core = max(nx.connected_components(C), key=len)\n",
    "    core_proportion = len(core) / N\n",
    "    random_attack_core_proportions.append(core_proportion)\n",
    "\n",
    "    # If there are more than M nodes, select M nodes at random and remove them\n",
    "    if C.number_of_nodes() > M:\n",
    "        nodes_to_remove = random.sample(list(C.nodes), M)\n",
    "        C.remove_nodes_from(nodes_to_remove)"
   ]
  },
  {
   "cell_type": "code",
   "execution_count": 108,
   "id": "33f16fbc",
   "metadata": {},
   "outputs": [
    {
     "data": {
      "text/plain": [
       "[<matplotlib.lines.Line2D at 0x18cd5f51cc0>]"
      ]
     },
     "execution_count": 108,
     "metadata": {},
     "output_type": "execute_result"
    },
    {
     "data": {
      "image/png": "[encoded data removed]",
      "text/plain": [
       "<Figure size 432x288 with 1 Axes>"
      ]
     },
     "metadata": {
      "needs_background": "light"
     },
     "output_type": "display_data"
    }
   ],
   "source": [
    "plt.title('Random failure')\n",
    "plt.xlabel('Number of nodes removed')\n",
    "plt.ylabel('Proportion of nodes in core')\n",
    "plt.plot(num_nodes_removed, random_attack_core_proportions, marker='o')"
   ]
  },
  {
   "cell_type": "markdown",
   "id": "b59cea40",
   "metadata": {},
   "source": [
    "#### Targeted Attack\n",
    "Simulating a targeted attack is similar, except that instead of choosing randomly, we will select the M most central nodes at each step. To accomplish this we want something like the `max` function used earler to get the most central node, but able to get the top M nodes. We can use Python's `sorted` function in a similar way to `max` to first sort the nodes by centrality in descending, or reverse, order. Once sorted by degree, we take the first M nodes in the list:"
   ]
  },
  {
   "cell_type": "code",
   "execution_count": 109,
   "id": "4779f00a",
   "metadata": {},
   "outputs": [
    {
     "data": {
      "text/plain": [
       "[105, 17, 95, 48, 132]"
      ]
     },
     "execution_count": 109,
     "metadata": {},
     "output_type": "execute_result"
    }
   ],
   "source": [
    "nodes_sorted_by_degree = sorted(G.nodes, key=G.degree, reverse=True)\n",
    "top_degree_nodes = nodes_sorted_by_degree[:M]\n",
    "top_degree_nodes"
   ]
  },
  {
   "cell_type": "markdown",
   "id": "f82032d6",
   "metadata": {},
   "source": [
    "With that in mind, the loop looks similar. Let's put all the pieces together here:"
   ]
  },
  {
   "cell_type": "code",
   "execution_count": 110,
   "id": "7cf9bc38",
   "metadata": {},
   "outputs": [],
   "source": [
    "N = G.number_of_nodes()\n",
    "number_of_steps = 25\n",
    "M = N // number_of_steps\n",
    "\n",
    "num_nodes_removed = range(0, N, M)\n",
    "C = G.copy()\n",
    "targeted_attack_core_proportions = []\n",
    "for nodes_removed in num_nodes_removed:\n",
    "    # Measure the relative size of the network core\n",
    "    core = max(nx.connected_components(C), key=len)\n",
    "    core_proportion = len(core) / N\n",
    "    targeted_attack_core_proportions.append(core_proportion)\n",
    "\n",
    "    # If there are more than M nodes, select top M nodes and remove them\n",
    "    if C.number_of_nodes() > M:\n",
    "        nodes_sorted_by_degree = sorted(C.nodes, key=C.degree, reverse=True)\n",
    "        nodes_to_remove = nodes_sorted_by_degree[:M]\n",
    "        C.remove_nodes_from(nodes_to_remove)"
   ]
  },
  {
   "cell_type": "code",
   "execution_count": 111,
   "id": "207c3403",
   "metadata": {},
   "outputs": [
    {
     "data": {
      "text/plain": [
       "[<matplotlib.lines.Line2D at 0x18cd5f4e650>]"
      ]
     },
     "execution_count": 111,
     "metadata": {},
     "output_type": "execute_result"
    },
    {
     "data": {
      "image/png": "[encoded data removed]",
      "text/plain": [
       "<Figure size 432x288 with 1 Axes>"
      ]
     },
     "metadata": {
      "needs_background": "light"
     },
     "output_type": "display_data"
    }
   ],
   "source": [
    "plt.title('Targeted attack')\n",
    "plt.xlabel('Number of nodes removed')\n",
    "plt.ylabel('Proportion of nodes in core')\n",
    "plt.plot(num_nodes_removed, targeted_attack_core_proportions, marker='o')"
   ]
  },
  {
   "cell_type": "markdown",
   "id": "7d248afa",
   "metadata": {},
   "source": [
    "As we can see, the effect is dramatic. The network is totally disconnected after removing relatively few central nodes in the graph.\n",
    "\n",
    "Pyplot can plot these curves on the same plot for additional effect:"
   ]
  },
  {
   "cell_type": "code",
   "execution_count": 112,
   "id": "44cfe18c",
   "metadata": {},
   "outputs": [
    {
     "data": {
      "text/plain": [
       "<matplotlib.legend.Legend at 0x18cd61b6bc0>"
      ]
     },
     "execution_count": 112,
     "metadata": {},
     "output_type": "execute_result"
    },
    {
     "data": {
      "image/png": "[encoded data removed]",
      "text/plain": [
       "<Figure size 432x288 with 1 Axes>"
      ]
     },
     "metadata": {
      "needs_background": "light"
     },
     "output_type": "display_data"
    }
   ],
   "source": [
    "plt.title('Random failure vs. targeted attack')\n",
    "plt.xlabel('Number of nodes removed')\n",
    "plt.ylabel('Proportion of nodes in core')\n",
    "plt.plot(num_nodes_removed, random_attack_core_proportions, marker='o', label='Failures')\n",
    "plt.plot(num_nodes_removed, targeted_attack_core_proportions, marker='^', label='Attacks')\n",
    "plt.legend()"
   ]
  },
  {
   "cell_type": "markdown",
   "id": "6e91233c",
   "metadata": {},
   "source": [
    "## Chapter 6\n",
    "### Partitions\n",
    "A **partition** of a graph is a separation of its nodes into disjoint groups. Consider the following graph:"
   ]
  },
  {
   "cell_type": "code",
   "execution_count": 113,
   "id": "bbb979bf",
   "metadata": {},
   "outputs": [
    {
     "data": {
      "image/png": "[encoded data removed]",
      "text/plain": [
       "<Figure size 432x288 with 1 Axes>"
      ]
     },
     "metadata": {},
     "output_type": "display_data"
    }
   ],
   "source": [
    "G = nx.Graph()\n",
    "nx.add_cycle(G, [0, 1, 2, 3])\n",
    "nx.add_cycle(G, [4, 5, 6, 7])\n",
    "G.add_edge(0, 7)\n",
    "\n",
    "nx.draw(G, with_labels=True)"
   ]
  },
  {
   "cell_type": "markdown",
   "id": "e4cb8114",
   "metadata": {},
   "source": [
    "The following is an example of a partition of these nodes:"
   ]
  },
  {
   "cell_type": "code",
   "execution_count": 114,
   "id": "96e7608d",
   "metadata": {},
   "outputs": [],
   "source": [
    "partition = [\n",
    "    {1, 2, 3},\n",
    "    {4, 5, 6},\n",
    "    {0, 7},\n",
    "]"
   ]
  },
  {
   "cell_type": "markdown",
   "id": "f6b224c0",
   "metadata": {},
   "source": [
    "Observe that every node in the graph is in exactly one of the sets in the partition. Formally, a partition is a list of sets such that every node is in exactly one set. NetworkX can verify that our partition is valid:"
   ]
  },
  {
   "cell_type": "code",
   "execution_count": 115,
   "id": "56f0e0d1",
   "metadata": {},
   "outputs": [
    {
     "data": {
      "text/plain": [
       "True"
      ]
     },
     "execution_count": 115,
     "metadata": {},
     "output_type": "execute_result"
    }
   ],
   "source": [
    "nx.community.is_partition(G, partition)"
   ]
  },
  {
   "cell_type": "markdown",
   "id": "16f5d538",
   "metadata": {},
   "source": [
    "When developing community detection algorithms, we often make use of a partition map, which is a dictionary mapping node names to a partition index. This is useful for quickly comparing if two nodes are in the same cluster in the partition:"
   ]
  },
  {
   "cell_type": "code",
   "execution_count": 116,
   "id": "a8f21721",
   "metadata": {},
   "outputs": [
    {
     "data": {
      "text/plain": [
       "{1: 0, 2: 0, 3: 0, 4: 1, 5: 1, 6: 1, 0: 2, 7: 2}"
      ]
     },
     "execution_count": 116,
     "metadata": {},
     "output_type": "execute_result"
    }
   ],
   "source": [
    "partition_map = {}\n",
    "for idx, cluster_nodes in enumerate(partition):\n",
    "    for node in cluster_nodes:\n",
    "        partition_map[node] = idx\n",
    "\n",
    "partition_map"
   ]
  },
  {
   "cell_type": "markdown",
   "id": "41af8bee",
   "metadata": {},
   "source": [
    "In this dictionary, the keys are the node names and two nodes will have the same value if they are in the same partition:"
   ]
  },
  {
   "cell_type": "code",
   "execution_count": 117,
   "id": "bdad78ae",
   "metadata": {},
   "outputs": [
    {
     "data": {
      "text/plain": [
       "True"
      ]
     },
     "execution_count": 117,
     "metadata": {},
     "output_type": "execute_result"
    }
   ],
   "source": [
    "partition_map[0] == partition_map[7]"
   ]
  },
  {
   "cell_type": "markdown",
   "id": "7300bda4",
   "metadata": {},
   "source": [
    "We can visualize our partition by drawing the graph with nodes colored by their partition membership:"
   ]
  },
  {
   "cell_type": "code",
   "execution_count": 118,
   "id": "c01fed7a",
   "metadata": {},
   "outputs": [
    {
     "data": {
      "image/png": "[encoded data removed]",
      "text/plain": [
       "<Figure size 432x288 with 1 Axes>"
      ]
     },
     "metadata": {},
     "output_type": "display_data"
    }
   ],
   "source": [
    "node_colors = [partition_map[n] for n in G.nodes]\n",
    "        \n",
    "nx.draw(G, node_color=node_colors, with_labels=True)"
   ]
  },
  {
   "cell_type": "markdown",
   "id": "5560ee83",
   "metadata": {},
   "source": [
    "There are two trivial partitions:\n",
    "\n",
    "1. The partition with one set containing every node;\n",
    "2. The partition with N sets, each containing a single node.\n",
    "\n",
    "A valid partition thus contains between 1 and N sets.\n",
    "\n",
    "Feel free to experiment by changing the partition above and running the subsequent cells.\n",
    "\n",
    "### Modularity\n",
    "At a high level, network community detection consists of finding a partition that achieves good separation between the groups of nodes. Before we get into how to find good partitions of a graph, we need an objective -- a way to measure how good the partition is. Modularity is one such objective function.\n",
    "\n",
    "The modularity of a graph partition compares the number of intra-group edges with a random baseline. Higher modularity scores correspond to a higher proportion of intra-group edges, therefore fewer inter-group edges and better separation of groups.\n",
    "\n",
    "For weighted undirected networks, as described in the text, we have\n",
    "\\( Q_w = \\frac{1}{W} \\sum_{C} \\left( W_C - \\frac{s_C^2}{4W} \\right) \\),\n",
    "\n",
    "where\n",
    "\n",
    "- \\( W \\) is the total weight of the links of the network,\n",
    "- \\( W_C \\) the total weight of the internal links of cluster \\( C \\), and\n",
    "- \\( s_C \\) the total strength of the nodes of \\( C \\).\n",
    "\n",
    "The total weight $W$ is half the total strength for the same reason that the number of edges $L$ is half the total degree. While this formula may look a bit complicated, it's straightforward to write code to compute the sum:"
   ]
  },
  {
   "cell_type": "code",
   "execution_count": 119,
   "id": "b08d8d89",
   "metadata": {},
   "outputs": [],
   "source": [
    "def modularity(G, partition):\n",
    "    W = sum(G.edges[v, w].get('weight', 1) for v, w in G.edges)\n",
    "    summation = 0\n",
    "    for cluster_nodes in partition:\n",
    "        s_c = sum(G.degree(n, weight='weight') for n in cluster_nodes)\n",
    "        # Use subgraph to count only internal links\n",
    "        C = G.subgraph(cluster_nodes)\n",
    "        W_c = sum(C.edges[v, w].get('weight', 1) for v, w in C.edges)\n",
    "        summation += W_c - s_c ** 2 / (4 * W)\n",
    "    \n",
    "    return summation / W"
   ]
  },
  {
   "cell_type": "code",
   "execution_count": 120,
   "id": "488cff55",
   "metadata": {},
   "outputs": [
    {
     "data": {
      "text/plain": [
       "0.2222222222222222"
      ]
     },
     "execution_count": 120,
     "metadata": {},
     "output_type": "execute_result"
    }
   ],
   "source": [
    "modularity(G, partition)"
   ]
  },
  {
   "cell_type": "markdown",
   "id": "1dd26864",
   "metadata": {},
   "source": [
    "Let's compare this to a partition we would suspect to have higher modularity:"
   ]
  },
  {
   "cell_type": "code",
   "execution_count": 121,
   "id": "86232bd3",
   "metadata": {},
   "outputs": [
    {
     "data": {
      "text/plain": [
       "0.3888888888888889"
      ]
     },
     "execution_count": 121,
     "metadata": {},
     "output_type": "execute_result"
    }
   ],
   "source": [
    "partition_2 = [\n",
    "    {0, 1, 2, 3},\n",
    "    {4, 5, 6, 7},\n",
    "]\n",
    "modularity(G, partition_2)"
   ]
  },
  {
   "cell_type": "markdown",
   "id": "44a07b2e",
   "metadata": {},
   "source": [
    "#### NetworkX Function\n",
    "NetworkX provides a modularity function that is more efficient than ours:"
   ]
  },
  {
   "cell_type": "code",
   "execution_count": 122,
   "id": "e2ccdf6e",
   "metadata": {},
   "outputs": [
    {
     "data": {
      "text/plain": [
       "0.38888888888888884"
      ]
     },
     "execution_count": 122,
     "metadata": {},
     "output_type": "execute_result"
    }
   ],
   "source": [
    "nx.community.quality.modularity(G, partition_2)"
   ]
  },
  {
   "cell_type": "markdown",
   "id": "550d77a1",
   "metadata": {},
   "source": [
    "### Zachary's Karate Club\n",
    "When writing and testing community-detection algorithms, it helps to make use of benchmark networks: graphs with a known, \"natural\" community structure. Perhaps the most famous benchmark graph is Zachary's Karate Club. It contains 34 nodes, representing members of a karate club whose interactions were monitored over a period of three years by researchers. Links in this graph connect individuals interacting outside club activities, a proxy for social ties.\n",
    "\n",
    "During the course of the study, a conflict between the instructor Mr. Hi (node 0) and the president, or Officer (node 33) led to a split of the club into separate groups led by Mr. Hi and Officer. In this case we know whom each member of the group followed after the split, providing empirical community labels: those members who followed Mr. Hi are said to be one community and those following the Officer make up the other.\n",
    "\n",
    "For this graph, we assume that the post-split group composition was largely driven by the social ties: members of the same friend groups would want to be part of the same club after the split. We thus expect a good community-detection algorithm to predict the post-split group composition with high accuracy.\n",
    "\n",
    "Zachary's karate club is such a popular benchmark graph that it has its own function in NetworkX:"
   ]
  },
  {
   "cell_type": "code",
   "execution_count": 123,
   "id": "717fd496",
   "metadata": {},
   "outputs": [
    {
     "data": {
      "image/png": "[encoded data removed]",
      "text/plain": [
       "<Figure size 432x288 with 1 Axes>"
      ]
     },
     "metadata": {},
     "output_type": "display_data"
    }
   ],
   "source": [
    "K = nx.karate_club_graph()\n",
    "nx.draw(K, with_labels=True)"
   ]
  },
  {
   "cell_type": "markdown",
   "id": "f5322a1a",
   "metadata": {},
   "source": [
    "Each node in a NetworkX graph has a dictionary of *attributes* associated with it. This dictionary can hold arbitrary data about a node. We can get the attributes for a single node by giving the node name to the `nodes` object.\n",
    "\n",
    "Each node in this graph has a `'club'` attribute, indicating whether the member followed the instructor or the president after the split:"
   ]
  },
  {
   "cell_type": "code",
   "execution_count": 124,
   "id": "13cc25d6",
   "metadata": {},
   "outputs": [
    {
     "data": {
      "text/plain": [
       "{'club': 'Mr. Hi'}"
      ]
     },
     "execution_count": 124,
     "metadata": {},
     "output_type": "execute_result"
    }
   ],
   "source": [
    "K.nodes[0]"
   ]
  },
  {
   "cell_type": "code",
   "execution_count": 125,
   "id": "a42909f6",
   "metadata": {},
   "outputs": [
    {
     "data": {
      "text/plain": [
       "{'club': 'Officer'}"
      ]
     },
     "execution_count": 125,
     "metadata": {},
     "output_type": "execute_result"
    }
   ],
   "source": [
    "K.nodes[9]"
   ]
  },
  {
   "cell_type": "markdown",
   "id": "47ea8495",
   "metadata": {},
   "source": [
    "We can visualize these labels by coloring each node according to its `'club'` attribute:"
   ]
  },
  {
   "cell_type": "code",
   "execution_count": 126,
   "id": "18f309c4",
   "metadata": {},
   "outputs": [
    {
     "data": {
      "image/png": "[encoded data removed]",
      "text/plain": [
       "<Figure size 432x288 with 1 Axes>"
      ]
     },
     "metadata": {},
     "output_type": "display_data"
    }
   ],
   "source": [
    "K = nx.karate_club_graph()\n",
    "club_color = {\n",
    "    'Mr. Hi': 'orange',\n",
    "    'Officer': 'lightblue',\n",
    "}\n",
    "node_colors = [club_color[K.nodes[n]['club']] for n in K.nodes]\n",
    "nx.draw(K, node_color=node_colors, with_labels=True)"
   ]
  },
  {
   "cell_type": "markdown",
   "id": "24435c14",
   "metadata": {},
   "source": [
    "This separation looks good, in that there are relatively few inter-community links as opposed to intra-community links. Let's create a graph partition based on these labels and measure its modularity.\n",
    "\n",
    "We can do this by creating a dictionary of two sets, one for each value of the nodes' `'club'` attribute, then assigning the nodes to the corresponding set."
   ]
  },
  {
   "cell_type": "code",
   "execution_count": 127,
   "id": "fd6988c4",
   "metadata": {},
   "outputs": [
    {
     "data": {
      "text/plain": [
       "{'Mr. Hi': {0, 1, 2, 3, 4, 5, 6, 7, 8, 10, 11, 12, 13, 16, 17, 19, 21},\n",
       " 'Officer': {9,\n",
       "  14,\n",
       "  15,\n",
       "  18,\n",
       "  20,\n",
       "  22,\n",
       "  23,\n",
       "  24,\n",
       "  25,\n",
       "  26,\n",
       "  27,\n",
       "  28,\n",
       "  29,\n",
       "  30,\n",
       "  31,\n",
       "  32,\n",
       "  33}}"
      ]
     },
     "execution_count": 127,
     "metadata": {},
     "output_type": "execute_result"
    }
   ],
   "source": [
    "groups = {\n",
    "    'Mr. Hi': set(),\n",
    "    'Officer': set(),\n",
    "}\n",
    "\n",
    "for n in K.nodes:\n",
    "    club = K.nodes[n]['club']\n",
    "    groups[club].add(n)\n",
    "    \n",
    "groups"
   ]
  },
  {
   "cell_type": "markdown",
   "id": "527a6fdb",
   "metadata": {},
   "source": [
    "By using the dictionary's `.values()` method, we can get a list of sets that define our partition:"
   ]
  },
  {
   "cell_type": "code",
   "execution_count": 128,
   "id": "23a2b394",
   "metadata": {},
   "outputs": [
    {
     "data": {
      "text/plain": [
       "[{0, 1, 2, 3, 4, 5, 6, 7, 8, 10, 11, 12, 13, 16, 17, 19, 21},\n",
       " {9, 14, 15, 18, 20, 22, 23, 24, 25, 26, 27, 28, 29, 30, 31, 32, 33}]"
      ]
     },
     "execution_count": 128,
     "metadata": {},
     "output_type": "execute_result"
    }
   ],
   "source": [
    "empirical_partition = list(groups.values())\n",
    "empirical_partition"
   ]
  },
  {
   "cell_type": "code",
   "execution_count": 129,
   "id": "4698e754",
   "metadata": {},
   "outputs": [
    {
     "data": {
      "text/plain": [
       "True"
      ]
     },
     "execution_count": 129,
     "metadata": {},
     "output_type": "execute_result"
    }
   ],
   "source": [
    "nx.community.is_partition(K, empirical_partition)"
   ]
  },
  {
   "cell_type": "markdown",
   "id": "77a5da9d",
   "metadata": {},
   "source": [
    "Since our partition is indeed a valid partition, we can get the modularity of this partition:"
   ]
  },
  {
   "cell_type": "code",
   "execution_count": 130,
   "id": "89a27c2c",
   "metadata": {},
   "outputs": [
    {
     "data": {
      "text/plain": [
       "0.39143756676224206"
      ]
     },
     "execution_count": 130,
     "metadata": {},
     "output_type": "execute_result"
    }
   ],
   "source": [
    "nx.community.quality.modularity(K, empirical_partition)"
   ]
  },
  {
   "cell_type": "markdown",
   "id": "360177b1",
   "metadata": {},
   "source": [
    "This is a relatively high modularity, which is what we expect.\n",
    "\n",
    "#### Comparison to a Random Partition\n",
    "For the sake of comparison, let's generate a random partition of this network and check its modularity. We would expect a modularity close to zero in this case.\n",
    "\n",
    "First we generate a sample of 17 nodes, half the total number of nodes, and assign them to one community. Our second community then includes the nodes in the graph not in the first community. We can use some set arithmetic to do this concisely:"
   ]
  },
  {
   "cell_type": "code",
   "execution_count": 132,
   "id": "e6772a56",
   "metadata": {},
   "outputs": [
    {
     "data": {
      "text/plain": [
       "[{1, 4, 5, 6, 9, 10, 11, 13, 15, 18, 19, 22, 24, 25, 28, 29, 33},\n",
       " {0, 2, 3, 7, 8, 12, 14, 16, 17, 20, 21, 23, 26, 27, 30, 31, 32}]"
      ]
     },
     "execution_count": 132,
     "metadata": {},
     "output_type": "execute_result"
    }
   ],
   "source": [
    "random_nodes = random.sample(list(K.nodes), 17)\n",
    "random_partition = [set(random_nodes),\n",
    "                    set(K.nodes) - set(random_nodes)]\n",
    "random_partition"
   ]
  },
  {
   "cell_type": "markdown",
   "id": "0b5d70de",
   "metadata": {},
   "source": [
    "We can visualize this partition and observe that the communities are much less natural-looking, as we would expect from a random assignment."
   ]
  },
  {
   "cell_type": "code",
   "execution_count": 133,
   "id": "37140cec",
   "metadata": {},
   "outputs": [
    {
     "data": {
      "image/png": "[encoded data removed]",
      "text/plain": [
       "<Figure size 432x288 with 1 Axes>"
      ]
     },
     "metadata": {},
     "output_type": "display_data"
    }
   ],
   "source": [
    "random_node_colors = ['orange' if n in random_nodes else 'lightblue' for n in K.nodes]\n",
    "nx.draw(K, node_color=random_node_colors)"
   ]
  },
  {
   "cell_type": "markdown",
   "id": "3cb1d94d",
   "metadata": {},
   "source": [
    "And finally we can test the modularity of this partition:"
   ]
  },
  {
   "cell_type": "code",
   "execution_count": 134,
   "id": "f348e562",
   "metadata": {},
   "outputs": [
    {
     "data": {
      "text/plain": [
       "-0.0311557129738948"
      ]
     },
     "execution_count": 134,
     "metadata": {},
     "output_type": "execute_result"
    }
   ],
   "source": [
    "nx.community.quality.modularity(K, random_partition)"
   ]
  },
  {
   "cell_type": "markdown",
   "id": "d7a6ccad",
   "metadata": {},
   "source": [
    "Since this is a random process the modularity won't be exactly zero, but it should be fairly close. Go ahead and repeat the process of generating a random partition and testing its modularity -- it will fluctuate around its mean value of zero.\n",
    "\n",
    "### Girvan-Newman Clustering\n",
    "Our task in this part will be to implement the Girvan-Newman clustering algorithm. Since NetworkX can do the heavy lifting for us -- computing betweenness centrality -- the code part of the task is relatively straightforward. Most of our effort here is spent interpreting and explaining intermediate results.\n",
    "\n",
    "Recall from the text the Girvan-Newman clustering algorithm:\n",
    "\n",
    "1. Create a partition sequence\n",
    "2. Calculate the betweenness centrality for all links.\n",
    "3. Remove the link with largest betweenness and create a partition using connected components.\n",
    "4. Recalculate the betweenness centrality of the links of the resulting graph.\n",
    "5. Repeat from step B until no links remain.\n",
    "6. Evaluate each partition in the sequence and choose the one with the highest modularity.\n",
    "\n",
    "During this process, the number of connected components in the graph will increase monotonically as clusters are broken up. Since we are removing one link at a time, the number of connected components can increase by at most one between steps in the sequence -- it's not possible for a single edge to connect more than two nodes, and thus components.\n",
    "\n",
    "We hope that the resulting partition of the graph will approximate its underlying community structure. We'll use the Karate Club graph here because we know the ground-truth community labels and can compare the result obtained from the algorithm."
   ]
  },
  {
   "cell_type": "code",
   "execution_count": 135,
   "id": "2cf3d24d",
   "metadata": {},
   "outputs": [
    {
     "data": {
      "image/png": "[encoded data removed]",
      "text/plain": [
       "<Figure size 432x288 with 1 Axes>"
      ]
     },
     "metadata": {},
     "output_type": "display_data"
    }
   ],
   "source": [
    "G = nx.karate_club_graph()\n",
    "nx.draw(G)"
   ]
  },
  {
   "cell_type": "markdown",
   "id": "c2e83aa5",
   "metadata": {},
   "source": [
    "#### Create a Partition Sequence\n",
    "##### Calculate the Betweenness Centrality for All Links\n",
    "NetworkX does the heavy lifting here. All we need to do is understand the output."
   ]
  },
  {
   "cell_type": "code",
   "execution_count": 136,
   "id": "43b285ca",
   "metadata": {},
   "outputs": [
    {
     "data": {
      "text/plain": [
       "{(0, 1): 0.025252525252525245,\n",
       " (0, 2): 0.0777876807288572,\n",
       " (0, 3): 0.02049910873440285,\n",
       " (0, 4): 0.0522875816993464,\n",
       " (0, 5): 0.07813428401663694,\n",
       " (0, 6): 0.07813428401663695,\n",
       " (0, 7): 0.0228206434088787,\n",
       " (0, 8): 0.07423959482783014,\n",
       " (0, 10): 0.0522875816993464,\n",
       " (0, 11): 0.058823529411764705,\n",
       " (0, 12): 0.04652406417112298,\n",
       " (0, 13): 0.04237189825425121,\n",
       " (0, 17): 0.04012392835922248,\n",
       " (0, 19): 0.045936960642843,\n",
       " (0, 21): 0.040123928359222474,\n",
       " (0, 31): 0.1272599949070537,\n",
       " (1, 2): 0.023232323232323233,\n",
       " (1, 3): 0.0077243018419489,\n",
       " (1, 7): 0.007422969187675069,\n",
       " (1, 13): 0.01240556828792123,\n",
       " (1, 17): 0.01869960105254222,\n",
       " (1, 19): 0.014633732280791102,\n",
       " (1, 21): 0.01869960105254222,\n",
       " (1, 30): 0.032280791104320514,\n",
       " (2, 3): 0.022430184194890075,\n",
       " (2, 7): 0.025214328155504617,\n",
       " (2, 8): 0.009175791528732704,\n",
       " (2, 9): 0.030803836686189627,\n",
       " (2, 13): 0.007630931160342923,\n",
       " (2, 27): 0.04119203236850296,\n",
       " (2, 28): 0.02278244631185807,\n",
       " (2, 32): 0.06898678663384543,\n",
       " (3, 7): 0.003365588659706307,\n",
       " (3, 12): 0.012299465240641705,\n",
       " (3, 13): 0.01492233256939139,\n",
       " (4, 6): 0.0047534165181224,\n",
       " (4, 10): 0.0029708853238265,\n",
       " (5, 6): 0.0029708853238265003,\n",
       " (5, 10): 0.0047534165181224,\n",
       " (5, 16): 0.029411764705882353,\n",
       " (6, 16): 0.029411764705882353,\n",
       " (8, 30): 0.00980392156862745,\n",
       " (8, 32): 0.0304416716181422,\n",
       " (8, 33): 0.04043657867187279,\n",
       " (9, 33): 0.029615482556659026,\n",
       " (13, 33): 0.06782389723566191,\n",
       " (14, 32): 0.024083977025153497,\n",
       " (14, 33): 0.03473955238661121,\n",
       " (15, 32): 0.024083977025153497,\n",
       " (15, 33): 0.03473955238661121,\n",
       " (18, 32): 0.024083977025153497,\n",
       " (18, 33): 0.03473955238661121,\n",
       " (19, 33): 0.05938233879410351,\n",
       " (20, 32): 0.024083977025153497,\n",
       " (20, 33): 0.03473955238661121,\n",
       " (22, 32): 0.024083977025153493,\n",
       " (22, 33): 0.03473955238661121,\n",
       " (23, 25): 0.019776193305605066,\n",
       " (23, 27): 0.010536739948504653,\n",
       " (23, 29): 0.00665478312537136,\n",
       " (23, 32): 0.022341057635175278,\n",
       " (23, 33): 0.03266983561101209,\n",
       " (24, 25): 0.0042186571598336305,\n",
       " (24, 27): 0.018657159833630418,\n",
       " (24, 31): 0.040106951871657755,\n",
       " (25, 31): 0.04205783323430383,\n",
       " (26, 29): 0.004532722179781003,\n",
       " (26, 33): 0.0542908072319837,\n",
       " (27, 33): 0.030477039300568713,\n",
       " (28, 31): 0.0148544266191325,\n",
       " (28, 33): 0.024564977506153975,\n",
       " (29, 32): 0.023328523328523323,\n",
       " (29, 33): 0.029807882749059215,\n",
       " (30, 32): 0.01705288175876411,\n",
       " (30, 33): 0.02681436210847975,\n",
       " (31, 32): 0.04143394731630026,\n",
       " (31, 33): 0.05339388280564752,\n",
       " (32, 33): 0.008225108225108224}"
      ]
     },
     "execution_count": 136,
     "metadata": {},
     "output_type": "execute_result"
    }
   ],
   "source": [
    "nx.edge_betweenness_centrality(G)"
   ]
  },
  {
   "cell_type": "markdown",
   "id": "3b73c2a9",
   "metadata": {},
   "source": [
    "The resulting dictionary has edge tuples as the keys, and each associated value is the betweenness centrality of that edge. The algorithm to compute the edge betweenness of all edges in a graph costs about the same as calculating it for a single edge, so we'll make use of this dictionary with the computed values for every edge.\n",
    "\n",
    "Once computed for all edges, we can easily get the associated betweenness for a single edge. For example, to get the edge betweenness of the edge between nodes 0 and 1:"
   ]
  },
  {
   "cell_type": "code",
   "execution_count": 137,
   "id": "40fd9f1d",
   "metadata": {},
   "outputs": [
    {
     "data": {
      "text/plain": [
       "0.025252525252525245"
      ]
     },
     "execution_count": 137,
     "metadata": {},
     "output_type": "execute_result"
    }
   ],
   "source": [
    "my_edge_betweenness = nx.edge_betweenness_centrality(G)\n",
    "my_edge_betweenness[0, 1]"
   ]
  },
  {
   "cell_type": "markdown",
   "id": "26f3b60a",
   "metadata": {},
   "source": [
    "Recall that dictionaries also have the `.get` method. This will be used in the next step."
   ]
  },
  {
   "cell_type": "code",
   "execution_count": 138,
   "id": "af699861",
   "metadata": {},
   "outputs": [
    {
     "data": {
      "text/plain": [
       "0.025252525252525245"
      ]
     },
     "execution_count": 138,
     "metadata": {},
     "output_type": "execute_result"
    }
   ],
   "source": [
    "my_edge_betweenness.get((0, 1))"
   ]
  },
  {
   "cell_type": "markdown",
   "id": "9daa150d",
   "metadata": {},
   "source": [
    "##### Remove the Link with Largest Betweenness...\n",
    "Given this dictionary of betweenness values for each edge, we can make use of Python's builtin `max` function to give us the key in this dictionary with the greatest value. Since there is a key in the dictionary for each edge in the graph, the following two expressions are equivalent, but the second one is probably more explicit as to what we're doing with this statement.\n",
    "\n",
    "I'm using the name `my_edge_betweenness` to make clear that this is a dictionary we've named and not a NetworkX function."
   ]
  },
  {
   "cell_type": "code",
   "execution_count": 139,
   "id": "a61fa9c7",
   "metadata": {},
   "outputs": [
    {
     "data": {
      "text/plain": [
       "(0, 31)"
      ]
     },
     "execution_count": 139,
     "metadata": {},
     "output_type": "execute_result"
    }
   ],
   "source": [
    "max(my_edge_betweenness, key=my_edge_betweenness.get)"
   ]
  },
  {
   "cell_type": "code",
   "execution_count": 140,
   "id": "14ad5ee3",
   "metadata": {},
   "outputs": [
    {
     "data": {
      "text/plain": [
       "(0, 31)"
      ]
     },
     "execution_count": 140,
     "metadata": {},
     "output_type": "execute_result"
    }
   ],
   "source": [
    "max(G.edges(), key=my_edge_betweenness.get)"
   ]
  },
  {
   "cell_type": "markdown",
   "id": "3b009397",
   "metadata": {},
   "source": [
    "This is then the edge we want to remove at this step in the process:"
   ]
  },
  {
   "cell_type": "code",
   "execution_count": 141,
   "id": "41c80767",
   "metadata": {},
   "outputs": [],
   "source": [
    "my_edge_betweenness = nx.edge_betweenness_centrality(G)\n",
    "most_valuable_edge = max(G.edges(), key=my_edge_betweenness.get)\n",
    "G.remove_edge(*most_valuable_edge)"
   ]
  },
  {
   "cell_type": "markdown",
   "id": "c85c2db1",
   "metadata": {},
   "source": [
    "The \"splat\" in the last statement above `G.remove_edge(*most_valuable_edge)` performs tuple unpacking into the arguments of a function. For example, if our most valuable edge is `(0, 31)`,\n",
    "\n",
    "`G.remove_edge(*most_valuable_edge)`\n",
    "\n",
    "is the same as\n",
    "\n",
    "`G.remove_edge(most_valuable_edge[0], most_valuable_edge[1])`\n",
    "\n",
    "or\n",
    "\n",
    "`G.remove_edge(0, 31)`\n",
    "\n",
    "##### (cont'd) ...and Create a Partition Using Connected Components\n",
    "This one is almost a gimme because the `nx.connected_components()` function gives us almost exactly what we want:"
   ]
  },
  {
   "cell_type": "code",
   "execution_count": 142,
   "id": "fcc9374c",
   "metadata": {},
   "outputs": [
    {
     "data": {
      "text/plain": [
       "<generator object connected_components at 0x0000018CD5D37920>"
      ]
     },
     "execution_count": 142,
     "metadata": {},
     "output_type": "execute_result"
    }
   ],
   "source": [
    "nx.connected_components(G)"
   ]
  },
  {
   "cell_type": "markdown",
   "id": "8afa7a95",
   "metadata": {},
   "source": [
    "We just have to remember to ask for it in a list:"
   ]
  },
  {
   "cell_type": "code",
   "execution_count": 143,
   "id": "ca8afa9a",
   "metadata": {},
   "outputs": [
    {
     "data": {
      "text/plain": [
       "[{0,\n",
       "  1,\n",
       "  2,\n",
       "  3,\n",
       "  4,\n",
       "  5,\n",
       "  6,\n",
       "  7,\n",
       "  8,\n",
       "  9,\n",
       "  10,\n",
       "  11,\n",
       "  12,\n",
       "  13,\n",
       "  14,\n",
       "  15,\n",
       "  16,\n",
       "  17,\n",
       "  18,\n",
       "  19,\n",
       "  20,\n",
       "  21,\n",
       "  22,\n",
       "  23,\n",
       "  24,\n",
       "  25,\n",
       "  26,\n",
       "  27,\n",
       "  28,\n",
       "  29,\n",
       "  30,\n",
       "  31,\n",
       "  32,\n",
       "  33}]"
      ]
     },
     "execution_count": 143,
     "metadata": {},
     "output_type": "execute_result"
    }
   ],
   "source": [
    "list(nx.connected_components(G))"
   ]
  },
  {
   "cell_type": "markdown",
   "id": "a25c37c9",
   "metadata": {},
   "source": [
    "Remember: a partition is a list of sets where every node is in exactly one of these sets. This is just what we have here, although it's a bit boring since we've only removed one edge and so there is still one connected component. If you like, you can try running the previous two cells a few times until you have more than one connected component so you can see what that looks like.\n",
    "\n",
    "Note that this feature whereby the connected components correspond exactly to our putative community labels is particular to the Girvan-Newman algorithm: other clustering algorithms may use different ways of generating their partitions.\n",
    "\n",
    "##### Recalculate the Betweenness Centrality of the Links of the Resulting Graph.\n",
    "##### Repeat from Step B Until No Links Remain.\n",
    "This implies that we need a loop to repeat this process $L$ times, once for each edge, and that we should keep track of the partitions generated. Straightforward stuff. We'll start with a fresh Karate Club graph since we removed some edges above:"
   ]
  },
  {
   "cell_type": "code",
   "execution_count": 144,
   "id": "d19e5764",
   "metadata": {},
   "outputs": [],
   "source": [
    "G = nx.karate_club_graph()\n",
    "partition_sequence = []\n",
    "for _ in range(G.number_of_edges()):\n",
    "    my_edge_betweenness = nx.edge_betweenness_centrality(G)\n",
    "    most_valuable_edge = max(G.edges(), key=my_edge_betweenness.get)\n",
    "    G.remove_edge(*most_valuable_edge)\n",
    "    my_partition = list(nx.connected_components(G))\n",
    "    partition_sequence.append(my_partition)"
   ]
  },
  {
   "cell_type": "markdown",
   "id": "5c7b45e0",
   "metadata": {},
   "source": [
    "Note the idiomatic construction of this `for` loop. Using `_` as the name for the loop variable tells the reader that we don't expect to do anything with the loop variable -- we just want to perform a task a specific number of times. One might be tempted to use a `while` loop here, but that way lie dragons: a mistake in a `while` loop can lead to infinite loops which are a headache.\n",
    "\n",
    "If we've done this right, we should have a partition for each step of the process, i.e. one for each edge in the graph:"
   ]
  },
  {
   "cell_type": "code",
   "execution_count": 145,
   "id": "ae7581b5",
   "metadata": {},
   "outputs": [
    {
     "data": {
      "text/plain": [
       "(78, 78)"
      ]
     },
     "execution_count": 145,
     "metadata": {},
     "output_type": "execute_result"
    }
   ],
   "source": [
    "len(partition_sequence), nx.karate_club_graph().number_of_edges()"
   ]
  },
  {
   "cell_type": "markdown",
   "id": "fdfbb2e2",
   "metadata": {},
   "source": [
    "Since we started with a connected graph, removing one edge probably doesn't disconnect the graph, so our first partition probably only has one community:"
   ]
  },
  {
   "cell_type": "code",
   "execution_count": 146,
   "id": "5c4b4e39",
   "metadata": {},
   "outputs": [
    {
     "data": {
      "text/plain": [
       "1"
      ]
     },
     "execution_count": 146,
     "metadata": {},
     "output_type": "execute_result"
    }
   ],
   "source": [
    "len(partition_sequence[0])"
   ]
  },
  {
   "cell_type": "markdown",
   "id": "55394801",
   "metadata": {},
   "source": [
    "...and the last partition should also be trivial, with each node in its own community:"
   ]
  },
  {
   "cell_type": "code",
   "execution_count": 147,
   "id": "2d4470d5",
   "metadata": {},
   "outputs": [
    {
     "data": {
      "text/plain": [
       "(34, 34)"
      ]
     },
     "execution_count": 147,
     "metadata": {},
     "output_type": "execute_result"
    }
   ],
   "source": [
    "len(partition_sequence[-1]), nx.karate_club_graph().number_of_nodes()"
   ]
  },
  {
   "cell_type": "markdown",
   "id": "b23970c6",
   "metadata": {},
   "source": [
    "#### Evaluate the Modularity of Each Partition in the Sequence\n",
    "We now have a sequence of partitions and a function to calculate the modularity of a partition. This is a great time to use a list comprehension!"
   ]
  },
  {
   "cell_type": "code",
   "execution_count": 148,
   "id": "a5dad5c0",
   "metadata": {},
   "outputs": [
    {
     "data": {
      "text/plain": [
       "[0.0,\n",
       " 0.0,\n",
       " 0.0,\n",
       " 0.0,\n",
       " 0.0,\n",
       " 0.0,\n",
       " 0.0,\n",
       " 0.0,\n",
       " 0.0,\n",
       " 0.0,\n",
       " 0.34766027623170476,\n",
       " 0.34766027623170476,\n",
       " 0.34766027623170476,\n",
       " 0.3423192968647515,\n",
       " 0.3423192968647515,\n",
       " 0.3423192968647515,\n",
       " 0.3423192968647515,\n",
       " 0.3580611307884035,\n",
       " 0.3580611307884035,\n",
       " 0.3580611307884035,\n",
       " 0.3580611307884035,\n",
       " 0.3580611307884035,\n",
       " 0.3580611307884035,\n",
       " 0.38497217068645645,\n",
       " 0.37578006409175246,\n",
       " 0.37578006409175246,\n",
       " 0.3594760218136842,\n",
       " 0.3594760218136842,\n",
       " 0.3470699574595679,\n",
       " 0.3470699574595679,\n",
       " 0.333249002080171,\n",
       " 0.333249002080171,\n",
       " 0.3134405277262421,\n",
       " 0.3134405277262421,\n",
       " 0.3122598901819681,\n",
       " 0.3122598901819681,\n",
       " 0.3036862127771219,\n",
       " 0.3036862127771219,\n",
       " 0.2942973332583722,\n",
       " 0.2942973332583722,\n",
       " 0.2827158411573995,\n",
       " 0.2827158411573995,\n",
       " 0.27116245947414774,\n",
       " 0.27116245947414774,\n",
       " 0.2544648713479881,\n",
       " 0.2544648713479881,\n",
       " 0.2397537527407657,\n",
       " 0.2397537527407657,\n",
       " 0.22689792170311643,\n",
       " 0.22299057363992422,\n",
       " 0.22299057363992422,\n",
       " 0.22299057363992422,\n",
       " 0.20056783043796034,\n",
       " 0.20056783043796034,\n",
       " 0.18696238826108955,\n",
       " 0.18696238826108955,\n",
       " 0.18696238826108955,\n",
       " 0.16091340117314143,\n",
       " 0.16091340117314143,\n",
       " 0.16091340117314143,\n",
       " 0.14281029216094152,\n",
       " 0.14281029216094152,\n",
       " 0.11768894885778004,\n",
       " 0.11088622776934466,\n",
       " 0.10076647738985403,\n",
       " 0.08837915331421826,\n",
       " 0.08837915331421826,\n",
       " 0.05623957572009519,\n",
       " 0.04398343359382318,\n",
       " 0.04398343359382318,\n",
       " 0.04398343359382318,\n",
       " 0.011515901126290725,\n",
       " 0.011515901126290725,\n",
       " -0.003504432075860656,\n",
       " -0.031052641442251845,\n",
       " -0.031052641442251845,\n",
       " -0.04655085174565696,\n",
       " -0.05110473941642774]"
      ]
     },
     "execution_count": 148,
     "metadata": {},
     "output_type": "execute_result"
    }
   ],
   "source": [
    "G = nx.karate_club_graph()\n",
    "modularity_sequence = [modularity(G, p) for p in partition_sequence]\n",
    "modularity_sequence"
   ]
  },
  {
   "cell_type": "markdown",
   "id": "b3289155",
   "metadata": {},
   "source": [
    "This sequence is then the modularity of the partition at each step in the algorithm. The first several entries in this sequence are effectively zero while there is only one community/component, then it jumps up once there is more than one community. We can use pyplot to visualize this relationship:"
   ]
  },
  {
   "cell_type": "code",
   "execution_count": 149,
   "id": "955d88d6",
   "metadata": {},
   "outputs": [
    {
     "data": {
      "text/plain": [
       "Text(0.5, 0, 'Algorithm step')"
      ]
     },
     "execution_count": 149,
     "metadata": {},
     "output_type": "execute_result"
    },
    {
     "data": {
      "image/png": "[encoded data removed]",
      "text/plain": [
       "<Figure size 432x288 with 1 Axes>"
      ]
     },
     "metadata": {
      "needs_background": "light"
     },
     "output_type": "display_data"
    }
   ],
   "source": [
    "import matplotlib.pyplot as plt\n",
    "plt.plot(modularity_sequence)\n",
    "plt.ylabel('Modularity')\n",
    "plt.xlabel('Algorithm step')"
   ]
  },
  {
   "cell_type": "markdown",
   "id": "446fcba6",
   "metadata": {},
   "source": [
    "#### Get the Partition with Highest Modularity\n",
    "Visually, we see a peak in the modularity sequence. This is the partition that maximizes modularity, and thus the output of the algorithm. We can use the `max` function to get the partition with highest modularity. Ideally we want to write the following:"
   ]
  },
  {
   "cell_type": "code",
   "execution_count": 150,
   "id": "1bd1b663",
   "metadata": {},
   "outputs": [
    {
     "ename": "TypeError",
     "evalue": "modularity() missing 1 required positional argument: 'communities'",
     "output_type": "error",
     "traceback": [
      "\u001b[1;31m---------------------------------------------------------------------------\u001b[0m",
      "\u001b[1;31mTypeError\u001b[0m                                 Traceback (most recent call last)",
      "Input \u001b[1;32mIn [150]\u001b[0m, in \u001b[0;36m<cell line: 1>\u001b[1;34m()\u001b[0m\n\u001b[1;32m----> 1\u001b[0m best_partition \u001b[38;5;241m=\u001b[39m \u001b[38;5;28;43mmax\u001b[39;49m\u001b[43m(\u001b[49m\u001b[43mpartition_sequence\u001b[49m\u001b[43m,\u001b[49m\u001b[43m \u001b[49m\u001b[43mkey\u001b[49m\u001b[38;5;241;43m=\u001b[39;49m\u001b[43mnx\u001b[49m\u001b[38;5;241;43m.\u001b[39;49m\u001b[43mcommunity\u001b[49m\u001b[38;5;241;43m.\u001b[39;49m\u001b[43mquality\u001b[49m\u001b[38;5;241;43m.\u001b[39;49m\u001b[43mmodularity\u001b[49m\u001b[43m)\u001b[49m\n",
      "\u001b[1;31mTypeError\u001b[0m: modularity() missing 1 required positional argument: 'communities'"
     ]
    }
   ],
   "source": [
    "best_partition = max(partition_sequence, key=nx.community.quality.modularity)"
   ]
  },
  {
   "cell_type": "markdown",
   "id": "5b4c23dc",
   "metadata": {},
   "source": [
    "...but we receive an error. Recall that a key function must take exactly one argument, the item in the sequence being evaluated, but the modularity function takes two arguments: the graph and the partition. We can fix this by writing a single-argument function to use as the key:"
   ]
  },
  {
   "cell_type": "code",
   "execution_count": 151,
   "id": "715e256f",
   "metadata": {},
   "outputs": [],
   "source": [
    "def my_modularity(partition):\n",
    "    return nx.community.quality.modularity(G, partition)\n",
    "best_partition = max(partition_sequence, key=my_modularity)"
   ]
  },
  {
   "cell_type": "markdown",
   "id": "3d961a90",
   "metadata": {},
   "source": [
    "Advanced Pythonauts will see a differet solution to this using the `zip` function to align the previously-generated partition & modularity sequences, but this solution is more explicit.\n",
    "\n",
    "So after all that work, what is the best partition?"
   ]
  },
  {
   "cell_type": "code",
   "execution_count": 152,
   "id": "cde11817",
   "metadata": {},
   "outputs": [
    {
     "data": {
      "text/plain": [
       "[{0, 1, 3, 7, 11, 12, 13, 17, 19, 21},\n",
       " {2, 24, 25, 27, 28, 31},\n",
       " {4, 5, 6, 10, 16},\n",
       " {8, 14, 15, 18, 20, 22, 23, 26, 29, 30, 32, 33},\n",
       " {9}]"
      ]
     },
     "execution_count": 152,
     "metadata": {},
     "output_type": "execute_result"
    }
   ],
   "source": [
    "best_partition"
   ]
  },
  {
   "cell_type": "markdown",
   "id": "6805d67f",
   "metadata": {},
   "source": [
    "Interesting! The partition of the karate club graph with highest modularity actually has five components! Let's visualize them, using our code for partition maps we wrote back at the beginning of this tutorial:"
   ]
  },
  {
   "cell_type": "code",
   "execution_count": 153,
   "id": "a265fe8d",
   "metadata": {},
   "outputs": [],
   "source": [
    "def create_partition_map(partition):\n",
    "    partition_map = {}\n",
    "    for idx, cluster_nodes in enumerate(partition):\n",
    "        for node in cluster_nodes:\n",
    "            partition_map[node] = idx\n",
    "    return partition_map"
   ]
  },
  {
   "cell_type": "code",
   "execution_count": 154,
   "id": "8bc6d82f",
   "metadata": {},
   "outputs": [
    {
     "data": {
      "image/png": "[encoded data removed]",
      "text/plain": [
       "<Figure size 432x288 with 1 Axes>"
      ]
     },
     "metadata": {},
     "output_type": "display_data"
    }
   ],
   "source": [
    "best_partition_map = create_partition_map(best_partition)\n",
    "\n",
    "node_colors = [best_partition_map[n] for n in G.nodes()]\n",
    "nx.draw(G, with_labels=True, node_color=node_colors)"
   ]
  },
  {
   "cell_type": "markdown",
   "id": "3ac51ab8",
   "metadata": {},
   "source": [
    "Exactly how good is this five-community clustering?"
   ]
  },
  {
   "cell_type": "code",
   "execution_count": 155,
   "id": "4e3e7220",
   "metadata": {},
   "outputs": [
    {
     "data": {
      "text/plain": [
       "0.3849721706864564"
      ]
     },
     "execution_count": 155,
     "metadata": {},
     "output_type": "execute_result"
    }
   ],
   "source": [
    "nx.community.quality.modularity(G, best_partition)"
   ]
  },
  {
   "cell_type": "markdown",
   "id": "f1075a63",
   "metadata": {},
   "source": [
    "It's higher than the \"ground truth\" communities we evaluated in section 3, which is a good sign, but for the specific problem of trying to predict the post-split community membership, a clustering into five groups is useless to us.\n",
    "\n",
    "#### Get the Best Partition with a Given Number of Communities\n",
    "One of the most useful parts of the Girvan-Newman algorithm is that it is also useful when we have a specific number of clusters we want. In this case, we know the karate club split into two groups, so let's get the partition in the sequence with two components:"
   ]
  },
  {
   "cell_type": "code",
   "execution_count": 157,
   "id": "22a902ad",
   "metadata": {},
   "outputs": [
    {
     "data": {
      "text/plain": [
       "[{0, 1, 3, 4, 5, 6, 7, 10, 11, 12, 13, 16, 17, 19, 21},\n",
       " {2, 8, 9, 14, 15, 18, 20, 22, 23, 24, 25, 26, 27, 28, 29, 30, 31, 32, 33}]"
      ]
     },
     "execution_count": 157,
     "metadata": {},
     "output_type": "execute_result"
    }
   ],
   "source": [
    "for partition in partition_sequence:\n",
    "    if len(partition) == 2:\n",
    "        two_cluster_partition = partition\n",
    "        break\n",
    "\n",
    "two_cluster_partition"
   ]
  },
  {
   "cell_type": "code",
   "execution_count": 158,
   "id": "e632d449",
   "metadata": {},
   "outputs": [
    {
     "data": {
      "image/png": "[encoded data removed]",
      "text/plain": [
       "<Figure size 432x288 with 1 Axes>"
      ]
     },
     "metadata": {},
     "output_type": "display_data"
    }
   ],
   "source": [
    "two_cluster_partition_map = create_partition_map(two_cluster_partition)\n",
    "\n",
    "node_colors = [two_cluster_partition_map[n] for n in G.nodes()]\n",
    "nx.draw(G, with_labels=True, node_color=node_colors)"
   ]
  },
  {
   "cell_type": "markdown",
   "id": "943c2073",
   "metadata": {},
   "source": [
    "How good is this partition? We can get its modularity:"
   ]
  },
  {
   "cell_type": "code",
   "execution_count": 159,
   "id": "3774db6d",
   "metadata": {},
   "outputs": [
    {
     "data": {
      "text/plain": [
       "0.3476602762317048"
      ]
     },
     "execution_count": 159,
     "metadata": {},
     "output_type": "execute_result"
    }
   ],
   "source": [
    "nx.community.quality.modularity(G, two_cluster_partition)"
   ]
  },
  {
   "cell_type": "markdown",
   "id": "0d50a29d",
   "metadata": {},
   "source": [
    "Pretty good -- comparable to the ground truth community labels. Let's compare these side-by-side:"
   ]
  },
  {
   "cell_type": "code",
   "execution_count": 160,
   "id": "ece7d571",
   "metadata": {},
   "outputs": [
    {
     "data": {
      "text/plain": [
       "Text(0.5, 1.0, 'Actual communities')"
      ]
     },
     "execution_count": 160,
     "metadata": {},
     "output_type": "execute_result"
    },
    {
     "data": {
      "image/png": "[encoded data removed]",
      "text/plain": [
       "<Figure size 1080x432 with 2 Axes>"
      ]
     },
     "metadata": {},
     "output_type": "display_data"
    }
   ],
   "source": [
    "import matplotlib.pyplot as plt\n",
    "\n",
    "pos = nx.layout.spring_layout(G)\n",
    "fig = plt.figure(figsize=(15, 6))\n",
    "\n",
    "plt.subplot(1, 2, 1)\n",
    "two_cluster_partition_map = create_partition_map(two_cluster_partition)\n",
    "node_colors = [two_cluster_partition_map[n] for n in G.nodes()]\n",
    "nx.draw(G, with_labels=True, node_color=node_colors, pos=pos)\n",
    "plt.title('Predicted communities')\n",
    "\n",
    "plt.subplot(1, 2, 2)\n",
    "node_colors = [G.nodes[n]['club'] == 'Officer' for n in G.nodes()]\n",
    "nx.draw(G, with_labels=True, node_color=node_colors, pos=pos)\n",
    "plt.title('Actual communities')"
   ]
  },
  {
   "cell_type": "markdown",
   "id": "27b9fda4",
   "metadata": {},
   "source": [
    "We can see that the predicted community labels are pretty accurate, only differing on a couple nodes that, visually, seem like they could plausibly beling to either group. Zachary's original paper even explains the practical considerations of one of these mispredicted nodes: student 8 was very near receiving his black belt from Mr. Hi and thus did not want to leave the group even though several of his friends did."
   ]
  },
  {
   "cell_type": "code",
   "execution_count": 161,
   "id": "79f05bde",
   "metadata": {},
   "outputs": [
    {
     "data": {
      "text/plain": [
       "{'club': 'Mr. Hi'}"
      ]
     },
     "execution_count": 161,
     "metadata": {},
     "output_type": "execute_result"
    }
   ],
   "source": [
    "G.nodes[8]"
   ]
  },
  {
   "cell_type": "markdown",
   "id": "d201f7de",
   "metadata": {},
   "source": [
    "##### Aside\n",
    "The astute reader might note that there may be several two-cluster partitions in the partition sequence we generated. We assert the following to be true:\n",
    "\n",
    "1. For every integer 1 to N, the number of nodes, there is a partition in the sequence with that number of clusters\n",
    "2. Every partition in the sequence with the same number of clusters is the same\n",
    "\n",
    "Proving these is left as an exercise to the reader, but as a consequence of these being true, optimized implementations of Girvan-Newman clustering will only store one partition for each number of clusters. This is how the implementation in NetworkX works, only providing one partition for each number of communities greater than one.\n",
    "\n",
    "### NetworkX Function\n",
    "`nx.community.girvan_newman(G)` will generate a sequence containing one partition of each size greater than one. Here we can see the first several are the same as those we generated:"
   ]
  },
  {
   "cell_type": "code",
   "execution_count": 162,
   "id": "412ae3ee",
   "metadata": {},
   "outputs": [
    {
     "data": {
      "text/plain": [
       "[({0, 1, 3, 4, 5, 6, 7, 10, 11, 12, 13, 16, 17, 19, 21},\n",
       "  {2, 8, 9, 14, 15, 18, 20, 22, 23, 24, 25, 26, 27, 28, 29, 30, 31, 32, 33}),\n",
       " ({0, 1, 3, 4, 5, 6, 7, 10, 11, 12, 13, 16, 17, 19, 21},\n",
       "  {2, 8, 14, 15, 18, 20, 22, 23, 24, 25, 26, 27, 28, 29, 30, 31, 32, 33},\n",
       "  {9}),\n",
       " ({0, 1, 3, 7, 11, 12, 13, 17, 19, 21},\n",
       "  {2, 8, 14, 15, 18, 20, 22, 23, 24, 25, 26, 27, 28, 29, 30, 31, 32, 33},\n",
       "  {4, 5, 6, 10, 16},\n",
       "  {9}),\n",
       " ({0, 1, 3, 7, 11, 12, 13, 17, 19, 21},\n",
       "  {2, 24, 25, 27, 28, 31},\n",
       "  {4, 5, 6, 10, 16},\n",
       "  {8, 14, 15, 18, 20, 22, 23, 26, 29, 30, 32, 33},\n",
       "  {9}),\n",
       " ({0, 1, 3, 7, 12, 13, 17, 19, 21},\n",
       "  {2, 24, 25, 27, 28, 31},\n",
       "  {4, 5, 6, 10, 16},\n",
       "  {8, 14, 15, 18, 20, 22, 23, 26, 29, 30, 32, 33},\n",
       "  {9},\n",
       "  {11})]"
      ]
     },
     "execution_count": 162,
     "metadata": {},
     "output_type": "execute_result"
    }
   ],
   "source": [
    "list(nx.community.girvan_newman(G))[:5]"
   ]
  },
  {
   "cell_type": "code",
   "execution_count": null,
   "id": "12a67a64",
   "metadata": {},
   "outputs": [],
   "source": []
  }
 ],
 "metadata": {
  "kernelspec": {
   "display_name": "Python 3 (ipykernel)",
   "language": "python",
   "name": "python3"
  },
  "language_info": {
   "codemirror_mode": {
    "name": "ipython",
    "version": 3
   },
   "file_extension": ".py",
   "mimetype": "text/x-python",
   "name": "python",
   "nbconvert_exporter": "python",
   "pygments_lexer": "ipython3",
   "version": "3.10.5"
  }
 },
 "nbformat": 4,
 "nbformat_minor": 5
}
